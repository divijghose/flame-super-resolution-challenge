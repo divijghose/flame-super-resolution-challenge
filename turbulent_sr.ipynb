{
 "cells": [
  {
   "cell_type": "markdown",
   "metadata": {},
   "source": [
    "## Import libraries"
   ]
  },
  {
   "cell_type": "code",
   "execution_count": 30,
   "metadata": {},
   "outputs": [],
   "source": [
    "# Written by W.T. Chung, modifirf by Divij Ghose and Thivin Anandh\n",
    "# This Python 3 environment comes with many helpful analytics libraries installed\n",
    "# It is defined by the kaggle/python Docker image: https://github.com/kaggle/docker-python\n",
    "# For example, here's several helpful packages to load\n",
    "\n",
    "import numpy as np # linear algebra\n",
    "import pandas as pd # data processing, CSV file I/O (e.g. pd.read_csv)\n",
    "import tensorflow as tf\n",
    "import matplotlib.pyplot as plt\n",
    "import os\n",
    "#### INSTRUCTIONS FOR I/O (PLEASE READ) #######\n",
    "# Input data files are available in the read-only \"../input/\" (relative) or '/kaggle/input'(absolute) directory\n",
    "# For example, running this (by clicking run or pressing Shift+Enter) will list all files under the input directory\n",
    "# You can write up to 20GB to the current directory (/kaggle/working/) that gets preserved as output when you create a version using \"Save & Run All\" \n",
    "# You can also write temporary files to /kaggle/temp/, but they won't be saved outside of the current session\n",
    "input_path = '/home/divij/Projects/2023-flame-ai-challenge/dataset/'\n",
    "output_path = '/home/divij/Projects/2023-flame-ai-challenge/output/test_16/'"
   ]
  },
  {
   "cell_type": "markdown",
   "metadata": {},
   "source": [
    "## Set Random Seed"
   ]
  },
  {
   "cell_type": "code",
   "execution_count": 26,
   "metadata": {},
   "outputs": [],
   "source": [
    "tf.keras.utils.set_random_seed(42)\n",
    "\n",
    "# This will make TensorFlow ops as deterministic as possible, but it will\n",
    "# affect the overall performance, so it's not enabled by default.\n",
    "# `enable_op_determinism()` is introduced in TensorFlow 2.9.\n",
    "tf.config.experimental.enable_op_determinism()"
   ]
  },
  {
   "cell_type": "markdown",
   "metadata": {},
   "source": [
    "## Reading and Plotting Data"
   ]
  },
  {
   "cell_type": "code",
   "execution_count": 31,
   "metadata": {},
   "outputs": [
    {
     "data": {
      "text/html": [
       "<div>\n",
       "<style scoped>\n",
       "    .dataframe tbody tr th:only-of-type {\n",
       "        vertical-align: middle;\n",
       "    }\n",
       "\n",
       "    .dataframe tbody tr th {\n",
       "        vertical-align: top;\n",
       "    }\n",
       "\n",
       "    .dataframe thead th {\n",
       "        text-align: right;\n",
       "    }\n",
       "</style>\n",
       "<table border=\"1\" class=\"dataframe\">\n",
       "  <thead>\n",
       "    <tr style=\"text-align: right;\">\n",
       "      <th></th>\n",
       "      <th>id</th>\n",
       "      <th>rho_filename</th>\n",
       "      <th>ux_filename</th>\n",
       "      <th>uy_filename</th>\n",
       "      <th>uz_filename</th>\n",
       "    </tr>\n",
       "  </thead>\n",
       "  <tbody>\n",
       "    <tr>\n",
       "      <th>0</th>\n",
       "      <td>-5634614311666768042</td>\n",
       "      <td>RHO_kgm-3_id-5634614311666768042.dat</td>\n",
       "      <td>UX_ms-1_id-5634614311666768042.dat</td>\n",
       "      <td>UY_ms-1_id-5634614311666768042.dat</td>\n",
       "      <td>UZ_ms-1_id-5634614311666768042.dat</td>\n",
       "    </tr>\n",
       "    <tr>\n",
       "      <th>1</th>\n",
       "      <td>-2337253536160728058</td>\n",
       "      <td>RHO_kgm-3_id-2337253536160728058.dat</td>\n",
       "      <td>UX_ms-1_id-2337253536160728058.dat</td>\n",
       "      <td>UY_ms-1_id-2337253536160728058.dat</td>\n",
       "      <td>UZ_ms-1_id-2337253536160728058.dat</td>\n",
       "    </tr>\n",
       "    <tr>\n",
       "      <th>2</th>\n",
       "      <td>-7056668419406715714</td>\n",
       "      <td>RHO_kgm-3_id-7056668419406715714.dat</td>\n",
       "      <td>UX_ms-1_id-7056668419406715714.dat</td>\n",
       "      <td>UY_ms-1_id-7056668419406715714.dat</td>\n",
       "      <td>UZ_ms-1_id-7056668419406715714.dat</td>\n",
       "    </tr>\n",
       "    <tr>\n",
       "      <th>3</th>\n",
       "      <td>-9138984573931233156</td>\n",
       "      <td>RHO_kgm-3_id-9138984573931233156.dat</td>\n",
       "      <td>UX_ms-1_id-9138984573931233156.dat</td>\n",
       "      <td>UY_ms-1_id-9138984573931233156.dat</td>\n",
       "      <td>UZ_ms-1_id-9138984573931233156.dat</td>\n",
       "    </tr>\n",
       "    <tr>\n",
       "      <th>4</th>\n",
       "      <td>2699082921033192879</td>\n",
       "      <td>RHO_kgm-3_id2699082921033192879.dat</td>\n",
       "      <td>UX_ms-1_id2699082921033192879.dat</td>\n",
       "      <td>UY_ms-1_id2699082921033192879.dat</td>\n",
       "      <td>UZ_ms-1_id2699082921033192879.dat</td>\n",
       "    </tr>\n",
       "  </tbody>\n",
       "</table>\n",
       "</div>"
      ],
      "text/plain": [
       "                    id                          rho_filename   \n",
       "0 -5634614311666768042  RHO_kgm-3_id-5634614311666768042.dat  \\\n",
       "1 -2337253536160728058  RHO_kgm-3_id-2337253536160728058.dat   \n",
       "2 -7056668419406715714  RHO_kgm-3_id-7056668419406715714.dat   \n",
       "3 -9138984573931233156  RHO_kgm-3_id-9138984573931233156.dat   \n",
       "4  2699082921033192879   RHO_kgm-3_id2699082921033192879.dat   \n",
       "\n",
       "                          ux_filename                         uy_filename   \n",
       "0  UX_ms-1_id-5634614311666768042.dat  UY_ms-1_id-5634614311666768042.dat  \\\n",
       "1  UX_ms-1_id-2337253536160728058.dat  UY_ms-1_id-2337253536160728058.dat   \n",
       "2  UX_ms-1_id-7056668419406715714.dat  UY_ms-1_id-7056668419406715714.dat   \n",
       "3  UX_ms-1_id-9138984573931233156.dat  UY_ms-1_id-9138984573931233156.dat   \n",
       "4   UX_ms-1_id2699082921033192879.dat   UY_ms-1_id2699082921033192879.dat   \n",
       "\n",
       "                          uz_filename  \n",
       "0  UZ_ms-1_id-5634614311666768042.dat  \n",
       "1  UZ_ms-1_id-2337253536160728058.dat  \n",
       "2  UZ_ms-1_id-7056668419406715714.dat  \n",
       "3  UZ_ms-1_id-9138984573931233156.dat  \n",
       "4   UZ_ms-1_id2699082921033192879.dat  "
      ]
     },
     "execution_count": 31,
     "metadata": {},
     "output_type": "execute_result"
    }
   ],
   "source": [
    "#read file ids and file names for train and val data\n",
    "train_df = pd.read_csv(input_path+'train.csv')\n",
    "val_df= pd.read_csv(input_path+'val.csv')\n",
    "#print 5 rows of pandas dataframe\n",
    "train_df.head()"
   ]
  },
  {
   "cell_type": "markdown",
   "metadata": {},
   "source": [
    "### Plot HR"
   ]
  },
  {
   "cell_type": "code",
   "execution_count": 32,
   "metadata": {},
   "outputs": [
    {
     "data": {
      "text/plain": [
       "Text(0.5, 1.0, 'Z-Velocity')"
      ]
     },
     "execution_count": 32,
     "metadata": {},
     "output_type": "execute_result"
    },
    {
     "data": {
      "image/png": "[encoded data removed]",
      "text/plain": [
       "<Figure size 2000x500 with 4 Axes>"
      ]
     },
     "metadata": {},
     "output_type": "display_data"
    }
   ],
   "source": [
    "#plot HR labels\n",
    "\n",
    "idx = 20\n",
    "data_path = input_path+\"flowfields/HR/train\"\n",
    "RHO_filename = train_df['rho_filename'][idx]\n",
    "UX_filename = train_df['ux_filename'][idx]\n",
    "UY_filename = train_df['uy_filename'][idx]\n",
    "UZ_filename = train_df['uz_filename'][idx]\n",
    "RHO = np.fromfile(data_path + \"/\" + RHO_filename, dtype=\"<f4\")\n",
    "UX = np.fromfile(data_path + \"/\" + UX_filename, dtype=\"<f4\")\n",
    "UY = np.fromfile(data_path + \"/\" + UY_filename, dtype=\"<f4\")\n",
    "UZ = np.fromfile(data_path + \"/\" + UZ_filename, dtype=\"<f4\")\n",
    "\n",
    "fig, axs = plt.subplots(1, 4, figsize=(20, 5))\n",
    "axs[0].imshow(RHO.reshape(128, 128), cmap='jet')\n",
    "axs[0].set_title('Density')\n",
    "axs[1].imshow(UX.reshape(128, 128), cmap='jet')\n",
    "axs[1].set_title('X-Velocity')\n",
    "axs[2].imshow(UY.reshape(128, 128), cmap='jet')\n",
    "axs[2].set_title('Y-Velocity')\n",
    "axs[3].imshow(UZ.reshape(128, 128), cmap='jet')\n",
    "axs[3].set_title('Z-Velocity')"
   ]
  },
  {
   "cell_type": "markdown",
   "metadata": {},
   "source": [
    "### Plot LR"
   ]
  },
  {
   "cell_type": "code",
   "execution_count": 5,
   "metadata": {},
   "outputs": [
    {
     "data": {
      "text/plain": [
       "Text(0.5, 1.0, 'UZ')"
      ]
     },
     "execution_count": 5,
     "metadata": {},
     "output_type": "execute_result"
    },
    {
     "data": {
      "image/png": "[encoded data removed]",
      "text/plain": [
       "<Figure size 2000x500 with 4 Axes>"
      ]
     },
     "metadata": {},
     "output_type": "display_data"
    }
   ],
   "source": [
    "#plot LR features\n",
    "\n",
    "id = 20\n",
    "data_path = input_path+\"flowfields/LR/train\"\n",
    "RHO_filename = train_df['rho_filename'][id]\n",
    "UX_filename = train_df['ux_filename'][id]\n",
    "UY_filename = train_df['uy_filename'][id]\n",
    "UZ_filename = train_df['uz_filename'][id]\n",
    "RHO = np.fromfile(data_path + \"/\" + RHO_filename, dtype=\"<f4\")\n",
    "UX = np.fromfile(data_path + \"/\" + UX_filename, dtype=\"<f4\")\n",
    "UY = np.fromfile(data_path + \"/\" + UY_filename, dtype=\"<f4\")\n",
    "UZ = np.fromfile(data_path + \"/\" + UZ_filename, dtype=\"<f4\")\n",
    "\n",
    "fig, axs = plt.subplots(1, 4, figsize=(20, 5))\n",
    "axs[0].imshow(RHO.reshape(16, 16), cmap='jet')\n",
    "axs[0].set_title('RHO')\n",
    "axs[1].imshow(UX.reshape(16, 16), cmap='jet')\n",
    "axs[1].set_title('UX')\n",
    "axs[2].imshow(UY.reshape(16, 16), cmap='jet')\n",
    "axs[2].set_title('UY')\n",
    "axs[3].imshow(UZ.reshape(16, 16), cmap='jet')\n",
    "axs[3].set_title('UZ')"
   ]
  },
  {
   "cell_type": "markdown",
   "metadata": {},
   "source": [
    "## Setup Data Pipeline"
   ]
  },
  {
   "cell_type": "markdown",
   "metadata": {},
   "source": [
    "### Data loader"
   ]
  },
  {
   "cell_type": "code",
   "execution_count": 33,
   "metadata": {},
   "outputs": [],
   "source": [
    "def getXY(idx,csv_file,mode = \"train\"):\n",
    "    LR_path = input_path + \"flowfields/LR/\" + mode\n",
    "    HR_path = input_path + \"flowfields/HR/\" + mode\n",
    "    #input\n",
    "    rho_i = np.fromfile(LR_path + \"/\" + csv_file['rho_filename'][idx], dtype=\"<f4\").reshape(16,16)\n",
    "    ux_i = np.fromfile(LR_path + \"/\" + csv_file['ux_filename'][idx], dtype=\"<f4\").reshape(16,16)\n",
    "    uy_i = np.fromfile(LR_path + \"/\" + csv_file['uy_filename'][idx], dtype=\"<f4\").reshape(16,16)\n",
    "    uz_i = np.fromfile(LR_path + \"/\" + csv_file['uz_filename'][idx], dtype=\"<f4\").reshape(16,16)\n",
    "    #output\n",
    "    rho_o = np.fromfile(HR_path + \"/\" + csv_file['rho_filename'][idx], dtype=\"<f4\").reshape(128,128)\n",
    "    ux_o = np.fromfile(HR_path + \"/\" + csv_file['ux_filename'][idx], dtype=\"<f4\").reshape(128,128)\n",
    "    uy_o = np.fromfile(HR_path + \"/\" + csv_file['uy_filename'][idx], dtype=\"<f4\").reshape(128,128)\n",
    "    uz_o = np.fromfile(HR_path + \"/\" + csv_file['uz_filename'][idx], dtype=\"<f4\").reshape(128,128)\n",
    "    \n",
    "    X = tf.stack([rho_i,ux_i,uy_i,uz_i],axis=2)\n",
    "    Y = tf.stack([rho_o,ux_o,uy_o,uz_o],axis=2)\n",
    "    \n",
    "    return [X,Y]\n",
    "\n",
    "def getTrainXY(idx):\n",
    "    return getXY(idx,train_df.reset_index().to_dict(orient='list'),mode = \"train\")\n",
    "\n",
    "def getValXY(idx):\n",
    "    return getXY(idx,val_df.reset_index().to_dict(orient='list'),mode = \"val\")\n"
   ]
  },
  {
   "cell_type": "markdown",
   "metadata": {},
   "source": [
    "### Find mean and standard deviation of train data"
   ]
  },
  {
   "cell_type": "code",
   "execution_count": 7,
   "metadata": {},
   "outputs": [
    {
     "name": "stderr",
     "output_type": "stream",
     "text": [
      "2023-09-15 10:32:25.943204: I tensorflow/compiler/xla/stream_executor/cuda/cuda_gpu_executor.cc:981] successful NUMA node read from SysFS had negative value (-1), but there must be at least one NUMA node, so returning NUMA node zero\n",
      "2023-09-15 10:32:25.943426: I tensorflow/compiler/xla/stream_executor/cuda/cuda_gpu_executor.cc:981] successful NUMA node read from SysFS had negative value (-1), but there must be at least one NUMA node, so returning NUMA node zero\n",
      "2023-09-15 10:32:25.961009: I tensorflow/compiler/xla/stream_executor/cuda/cuda_gpu_executor.cc:981] successful NUMA node read from SysFS had negative value (-1), but there must be at least one NUMA node, so returning NUMA node zero\n",
      "2023-09-15 10:32:25.961261: I tensorflow/compiler/xla/stream_executor/cuda/cuda_gpu_executor.cc:981] successful NUMA node read from SysFS had negative value (-1), but there must be at least one NUMA node, so returning NUMA node zero\n",
      "2023-09-15 10:32:25.961440: I tensorflow/compiler/xla/stream_executor/cuda/cuda_gpu_executor.cc:981] successful NUMA node read from SysFS had negative value (-1), but there must be at least one NUMA node, so returning NUMA node zero\n",
      "2023-09-15 10:32:25.961607: I tensorflow/compiler/xla/stream_executor/cuda/cuda_gpu_executor.cc:981] successful NUMA node read from SysFS had negative value (-1), but there must be at least one NUMA node, so returning NUMA node zero\n",
      "2023-09-15 10:32:25.962261: I tensorflow/core/platform/cpu_feature_guard.cc:193] This TensorFlow binary is optimized with oneAPI Deep Neural Network Library (oneDNN) to use the following CPU instructions in performance-critical operations:  SSE4.1 SSE4.2 AVX AVX2 FMA\n",
      "To enable them in other operations, rebuild TensorFlow with the appropriate compiler flags.\n",
      "2023-09-15 10:32:26.300326: I tensorflow/compiler/xla/stream_executor/cuda/cuda_gpu_executor.cc:981] successful NUMA node read from SysFS had negative value (-1), but there must be at least one NUMA node, so returning NUMA node zero\n",
      "2023-09-15 10:32:26.300643: I tensorflow/compiler/xla/stream_executor/cuda/cuda_gpu_executor.cc:981] successful NUMA node read from SysFS had negative value (-1), but there must be at least one NUMA node, so returning NUMA node zero\n",
      "2023-09-15 10:32:26.300923: I tensorflow/compiler/xla/stream_executor/cuda/cuda_gpu_executor.cc:981] successful NUMA node read from SysFS had negative value (-1), but there must be at least one NUMA node, so returning NUMA node zero\n",
      "2023-09-15 10:32:26.301185: I tensorflow/compiler/xla/stream_executor/cuda/cuda_gpu_executor.cc:981] successful NUMA node read from SysFS had negative value (-1), but there must be at least one NUMA node, so returning NUMA node zero\n",
      "2023-09-15 10:32:26.301442: I tensorflow/compiler/xla/stream_executor/cuda/cuda_gpu_executor.cc:981] successful NUMA node read from SysFS had negative value (-1), but there must be at least one NUMA node, so returning NUMA node zero\n",
      "2023-09-15 10:32:26.301699: I tensorflow/compiler/xla/stream_executor/cuda/cuda_gpu_executor.cc:981] successful NUMA node read from SysFS had negative value (-1), but there must be at least one NUMA node, so returning NUMA node zero\n",
      "2023-09-15 10:32:26.741503: I tensorflow/compiler/xla/stream_executor/cuda/cuda_gpu_executor.cc:981] successful NUMA node read from SysFS had negative value (-1), but there must be at least one NUMA node, so returning NUMA node zero\n",
      "2023-09-15 10:32:26.741731: I tensorflow/compiler/xla/stream_executor/cuda/cuda_gpu_executor.cc:981] successful NUMA node read from SysFS had negative value (-1), but there must be at least one NUMA node, so returning NUMA node zero\n",
      "2023-09-15 10:32:26.741914: I tensorflow/compiler/xla/stream_executor/cuda/cuda_gpu_executor.cc:981] successful NUMA node read from SysFS had negative value (-1), but there must be at least one NUMA node, so returning NUMA node zero\n",
      "2023-09-15 10:32:26.742087: I tensorflow/compiler/xla/stream_executor/cuda/cuda_gpu_executor.cc:981] successful NUMA node read from SysFS had negative value (-1), but there must be at least one NUMA node, so returning NUMA node zero\n",
      "2023-09-15 10:32:26.742256: I tensorflow/compiler/xla/stream_executor/cuda/cuda_gpu_executor.cc:981] successful NUMA node read from SysFS had negative value (-1), but there must be at least one NUMA node, so returning NUMA node zero\n",
      "2023-09-15 10:32:26.742404: I tensorflow/core/common_runtime/gpu/gpu_device.cc:1613] Created device /job:localhost/replica:0/task:0/device:GPU:0 with 46747 MB memory:  -> device: 0, name: NVIDIA RTX A6000, pci bus id: 0000:02:00.0, compute capability: 8.6\n",
      "2023-09-15 10:32:26.742734: I tensorflow/compiler/xla/stream_executor/cuda/cuda_gpu_executor.cc:981] successful NUMA node read from SysFS had negative value (-1), but there must be at least one NUMA node, so returning NUMA node zero\n",
      "2023-09-15 10:32:26.742881: I tensorflow/core/common_runtime/gpu/gpu_device.cc:1613] Created device /job:localhost/replica:0/task:0/device:GPU:1 with 46700 MB memory:  -> device: 1, name: NVIDIA RTX A6000, pci bus id: 0000:21:00.0, compute capability: 8.6\n"
     ]
    },
    {
     "data": {
      "text/plain": [
       "(TensorShape([16, 16, 4]),\n",
       " TensorShape([16, 16, 4]),\n",
       " TensorShape([128, 128, 4]),\n",
       " TensorShape([128, 128, 4]))"
      ]
     },
     "execution_count": 7,
     "metadata": {},
     "output_type": "execute_result"
    }
   ],
   "source": [
    "nfile = len(train_df)\n",
    "X_train = []\n",
    "Y_train = []\n",
    "for i in range(nfile):\n",
    "    X_train.append(getTrainXY(i)[0])\n",
    "    Y_train.append(getTrainXY(i)[1])\n",
    "X_train = tf.stack(X_train)\n",
    "Y_train = tf.stack(Y_train)\n",
    "\n",
    "X_mean = tf.reduce_mean(X_train,axis=0)\n",
    "X_std = tf.math.reduce_std(X_train,axis=0)\n",
    "Y_mean = tf.reduce_mean(Y_train,axis=0)\n",
    "Y_std = tf.math.reduce_std(Y_train,axis=0)\n",
    "X_mean.shape,X_std.shape,Y_mean.shape,Y_std.shape\n",
    "\n"
   ]
  },
  {
   "cell_type": "markdown",
   "metadata": {},
   "source": [
    "### Scale the data prior to training"
   ]
  },
  {
   "cell_type": "code",
   "execution_count": 8,
   "metadata": {},
   "outputs": [],
   "source": [
    "my_mean = [0.24,28.0, 28.0, 28.0]\n",
    "my_std = [0.068,48.0, 48.0, 48.0]\n",
    "my_mean = tf.convert_to_tensor(my_mean, dtype=tf.float32)\n",
    "my_std = tf.convert_to_tensor(my_std, dtype=tf.float32)\n",
    "\n",
    "def scale_tf(X,Y,my_mean=my_mean,my_std=my_std):\n",
    "   \n",
    "    Xscaled = (X - X_mean)/X_std\n",
    "    Yscaled = (Y-Y_mean)/Y_std\n",
    "    # X_scale = X\n",
    "    # Y_scale = Y\n",
    "    return (Xscaled,Yscaled)\n",
    "\n",
    "\n",
    "\n",
    "#wrapper function so tensorflow can understand this\n",
    "def scale_wrapper(X,Y):\n",
    "    return tf.py_function(scale_tf, inp=[X,Y], Tout=[tf.float32,tf.float32])"
   ]
  },
  {
   "cell_type": "markdown",
   "metadata": {},
   "source": [
    "## Make Model"
   ]
  },
  {
   "cell_type": "code",
   "execution_count": 34,
   "metadata": {},
   "outputs": [],
   "source": [
    "#taken from keras tutorial: https://keras.io/examples/vision/edsr/\n",
    "from tensorflow.keras import layers\n",
    "from tensorflow.keras.models import Model\n",
    "from tensorflow.keras import regularizers\n",
    "\n",
    "# Residual Block\n",
    "def squeeze_and_excitation(x_in, ratio=8):\n",
    "\n",
    "    \"\"\"Performs a squeeze and excitation on a 4D tensor, after convolution\"\"\"\n",
    "    # Squeeze\n",
    "    x = layers.GlobalAveragePooling2D()(x_in)  \n",
    "    # Excitation , x.shape[-1] is the number of filters in the convolutional layer\n",
    "    x = layers.Dense(x_in.shape[-1] // ratio, activation='relu')(x)\n",
    "    # Self attention\n",
    "    x = layers.Dense(x_in.shape[-1], activation='sigmoid')(x)\n",
    "    # Scale output\n",
    "    x = layers.Multiply()([x_in, x]) \n",
    "    return x\n",
    "\n",
    "def ResBlock(inputs):\n",
    "    x = layers.Conv2D(64, 3, padding=\"same\", activation=\"relu\")(inputs)\n",
    "    # x = layers.Conv2D(64, 3, padding=\"same\")(inputs)\n",
    "    # x = layers.LeakyReLU(alpha=0.2)(x)\n",
    "    x = layers.Conv2D(64, 3, padding=\"same\")(x)\n",
    "    # x = squeeze_and_excitation(x)\n",
    "    x = layers.Add()([inputs, x])\n",
    "    return x\n",
    "\n",
    "\n",
    "# Upsampling Block\n",
    "def Upsampling(inputs, factor=2, **kwargs):\n",
    "    x = layers.Conv2D(64 * (factor ** 2), 3, padding=\"same\", **kwargs)(inputs)\n",
    "    x = tf.nn.depth_to_space(x, block_size=factor)\n",
    "    x = layers.Conv2D(64 * (factor ** 2), 3, padding=\"same\", **kwargs)(x)\n",
    "    x = tf.nn.depth_to_space(x, block_size=factor)\n",
    "    x = layers.Conv2D(64 * (factor ** 2), 3, padding=\"same\", **kwargs)(x)\n",
    "    x = tf.nn.depth_to_space(x, block_size=factor)\n",
    "    return x\n",
    "\n",
    "\n",
    "\n",
    "# def make_model(num_filters=64, num_of_residual_blocks=16):\n",
    "def make_model(num_filters=64, num_of_residual_blocks=16):\n",
    "\n",
    "    # Flexible Inputs to input_layer\n",
    "    input_layer = layers.Input(shape=(None, None, 4))\n",
    "    # Scaling Pixel Values\n",
    "    x = x_new = layers.Conv2D(num_filters, 3, padding=\"same\")(input_layer)\n",
    "\n",
    "    # 16 residual blocks\n",
    "    for _ in range(num_of_residual_blocks):\n",
    "        x_new = ResBlock(x_new)\n",
    "\n",
    "    x_new = layers.Conv2D(num_filters, 3, padding=\"same\")(x_new)\n",
    "    x = layers.Add()([x, x_new])\n",
    "\n",
    "    x = Upsampling(x)\n",
    "    output_layer = layers.Conv2D(4, 3, padding=\"same\")(x)\n",
    "\n",
    "    return Model(input_layer, output_layer)\n",
    "\n",
    "\n"
   ]
  },
  {
   "cell_type": "markdown",
   "metadata": {},
   "source": [
    "## Build Tensorflow data object"
   ]
  },
  {
   "cell_type": "code",
   "execution_count": 35,
   "metadata": {},
   "outputs": [],
   "source": [
    "def load_train_dataset_wrapper(file_idx):\n",
    "    return tf.py_function(getTrainXY, inp=[file_idx], Tout=[tf.float32,tf.float32])\n",
    "\n",
    "def load_val_dataset_wrapper(file_idx):\n",
    "    return tf.py_function(getValXY, inp=[file_idx], Tout=[tf.float32,tf.float32])\n",
    "\n",
    "batch_size = 32 #divisible by number of gpus\n",
    "nfile = len(train_df)\n",
    "\n",
    "train_ds = tf.data.Dataset.from_tensor_slices(range(nfile))\n",
    "train_ds = (train_ds\n",
    "    .shuffle(nfile)\n",
    "    .map(load_train_dataset_wrapper, num_parallel_calls=tf.data.AUTOTUNE)\n",
    "    .map(scale_wrapper, num_parallel_calls=tf.data.AUTOTUNE)\n",
    "    .batch(batch_size)\n",
    "    .prefetch(tf.data.AUTOTUNE)\n",
    ")\n",
    "\n",
    "nfile = len(val_df)\n",
    "val_ds = tf.data.Dataset.from_tensor_slices(range(nfile))\n",
    "val_ds = (val_ds\n",
    "    .map(load_val_dataset_wrapper, num_parallel_calls=tf.data.AUTOTUNE)\n",
    "    .map(scale_wrapper, num_parallel_calls=tf.data.AUTOTUNE)\n",
    "    .batch(batch_size)\n",
    "    .prefetch(tf.data.AUTOTUNE)\n",
    ")"
   ]
  },
  {
   "cell_type": "markdown",
   "metadata": {},
   "source": [
    "## Define custom loss (not used in best performing model)"
   ]
  },
  {
   "cell_type": "code",
   "execution_count": 36,
   "metadata": {},
   "outputs": [],
   "source": [
    "def grad_x(matrix):\n",
    "    return np.gradient(matrix,axis = 1)\n",
    "def grad_y(matrix):\n",
    "    return np.gradient(matrix,axis = 2)\n",
    "\n",
    "\n",
    "def grad0(matrix): \n",
    "    return np.gradient(matrix)[0]\n",
    "\n",
    "def grad1(matrix): \n",
    "    return np.gradient(matrix,axis=1)\n",
    "\n",
    "def grad2(matrix): \n",
    "    return np.gradient(matrix,axis=2)\n",
    "\n",
    "def grad3(matrix): \n",
    "    return np.gradient(matrix,axis=3)\n",
    "\n",
    "from tensorflow.keras.utils import get_custom_objects\n",
    "def pixel_grad_loss(y_true, y_pred):\n",
    "    mse = tf.reduce_mean(tf.losses.mean_squared_error(y_true, y_pred))\n",
    "    \n",
    "    rho_true = y_true[:,:,:,0]\n",
    "    rho_pred = y_pred[:,:,:,0]\n",
    "    rho_true_grad_x  = tf.py_function(grad_x,inp=[rho_true],Tout=tf.float32)    \n",
    "    rho_pred_grad_x  = tf.image.image_gradients(y_pred)[0][:,:,:,0]\n",
    "    \n",
    "    u_true = y_true[:,:,:,1]\n",
    "    u_true_grad_x  = tf.py_function(grad_x,inp=[u_true],Tout=tf.float32)\n",
    "    u_pred_grad_x  = tf.image.image_gradients(y_pred)[0][:,:,:,1]\n",
    "    \n",
    "    v_true = y_true[:,:,:,2]\n",
    "    v_true_grad_x  = tf.py_function(grad_x,inp=[v_true],Tout=tf.float32)\n",
    "    v_pred_grad_x  = tf.image.image_gradients(y_pred)[0][:,:,:,2]\n",
    "    \n",
    "    w_true = y_true[:,:,:,3]\n",
    "    w_true_grad_x  = tf.py_function(grad_x,inp=[w_true],Tout=tf.float32)\n",
    "    w_pred_grad_x  = tf.image.image_gradients(y_pred)[0][:,:,:,3]\n",
    "    \n",
    "    rho_true_grad_y  = tf.py_function(grad_y,inp=[rho_true],Tout=tf.float32)    \n",
    "    rho_pred_grad_y  = tf.image.image_gradients(y_pred)[1][:,:,:,0]\n",
    "    \n",
    "    u_true = y_true[:,:,:,1]\n",
    "    u_true_grad_y  = tf.py_function(grad_y,inp=[u_true],Tout=tf.float32)\n",
    "    u_pred_grad_y  = tf.image.image_gradients(y_pred)[1][:,:,:,1]\n",
    "    \n",
    "    v_true = y_true[:,:,:,2]\n",
    "    v_true_grad_y  = tf.py_function(grad_y,inp=[v_true],Tout=tf.float32)\n",
    "    v_pred_grad_y  = tf.image.image_gradients(y_pred)[1][:,:,:,2]\n",
    "    \n",
    "    w_true = y_true[:,:,:,3]\n",
    "    w_true_grad_y  = tf.py_function(grad_y,inp=[w_true],Tout=tf.float32)\n",
    "    w_pred_grad_y  = tf.image.image_gradients(y_pred)[1][:,:,:,3]\n",
    "    \n",
    "    \n",
    "    # mse_grad_x = tf.reduce_mean(tf.losses.mean_squared_error(rho_true_grad_x, rho_pred_grad_x))\n",
    "    mse_grad = tf.reduce_mean(\n",
    "    tf.losses.mean_squared_error(rho_true_grad_x, rho_pred_grad_x) +\n",
    "    tf.losses.mean_squared_error(u_true_grad_x, u_pred_grad_x) +\n",
    "    tf.losses.mean_squared_error(v_true_grad_x, v_pred_grad_x) +\n",
    "    tf.losses.mean_squared_error(w_true_grad_x, w_pred_grad_x) +\n",
    "    tf.losses.mean_squared_error(rho_true_grad_y, rho_pred_grad_y) +\n",
    "    tf.losses.mean_squared_error(u_true_grad_y, u_pred_grad_y) +\n",
    "    tf.losses.mean_squared_error(v_true_grad_y, v_pred_grad_y) +\n",
    "    tf.losses.mean_squared_error(w_true_grad_y, w_pred_grad_y)\n",
    ")\n",
    "    \n",
    "    # mse_grad_x_p = tf.reduce_sum(rho_pred_grad_x)\n",
    "    \n",
    "    \n",
    "    return 0.1*mse_grad + mse# + tf.losses.mean_squared_error(dy_true, dy_pred)\n",
    "    \n",
    "get_custom_objects().update({'pixel_grad_loss': pixel_grad_loss})\n",
    "\n",
    "\n"
   ]
  },
  {
   "cell_type": "markdown",
   "metadata": {},
   "source": [
    "## Train Model"
   ]
  },
  {
   "cell_type": "code",
   "execution_count": 37,
   "metadata": {},
   "outputs": [
    {
     "name": "stdout",
     "output_type": "stream",
     "text": [
      "log_dir: /home/divij/Projects/2023-flame-ai-challenge/output/test_16/logs\n",
      "checkpoint_dir: /home/divij/Projects/2023-flame-ai-challenge/output/test_16/ckpt\n"
     ]
    }
   ],
   "source": [
    "#create directories for checkpoints and logs\n",
    "log_dir = output_path + \"logs\" \n",
    "checkpoint_dir = output_path + \"ckpt\"\n",
    "print(\"log_dir:\",log_dir)\n",
    "print(\"checkpoint_dir:\",checkpoint_dir)\n",
    "\n",
    "if not os.path.exists(checkpoint_dir):\n",
    "    os.makedirs(checkpoint_dir)\n",
    "if not os.path.exists(log_dir):\n",
    "    os.makedirs(log_dir)\n",
    "\n",
    "# Either restore the latest model, or create a fresh one if there is no checkpoint available.\n",
    "def make_or_restore_model(alpha=1e-3):\n",
    "    model =  make_model()\n",
    "    #set up save/load checkpoints\n",
    "    checkpoints = [checkpoint_dir + \"/\" + name for name in os.listdir(checkpoint_dir)]\n",
    "    nckpt = 0\n",
    "    if checkpoints:\n",
    "        latest_checkpoint = max(checkpoints, key=os.path.getctime)\n",
    "        print(\"Restoring from\", latest_checkpoint)\n",
    "\n",
    "        nckpt = int(latest_checkpoint.split('-')[-1])\n",
    "        restored_model =  tf.keras.models.load_model(latest_checkpoint,custom_objects=get_custom_objects())\n",
    "        model.set_weights(restored_model.get_weights())\n",
    "    else:\n",
    "        print(\"Creating a new model\")\n",
    "    \n",
    "    #compile model with optimizerloss functions,metrics\n",
    "    #NOTE: Although we're only using MSE as the public metric here, we will be also evaluating with SSIM-based metrics to search for best models so you may want to monitor other metrics\n",
    "    model.compile(optimizer = tf.keras.optimizers.Adam(learning_rate=alpha),\n",
    "        loss=tf.keras.losses.MeanSquaredError(),\n",
    "           metrics =[tf.keras.metrics.MeanAbsoluteError()]) #add other metrics here\n",
    "\n",
    "    return [model,nckpt]\n"
   ]
  },
  {
   "cell_type": "code",
   "execution_count": 40,
   "metadata": {},
   "outputs": [],
   "source": [
    "def run_training(train_dataset=train_ds,val_dataset=val_ds,epochs=100):\n",
    "    # Create a MirroredStrategy for multi-gpu\n",
    "    strategy = tf.distribute.MirroredStrategy()\n",
    "    print('Number of GPUs: {}'.format(strategy.num_replicas_in_sync))\n",
    "    print(\"Checkpoint directory: {}\".format(checkpoint_dir))\n",
    "    # For multi-gpu: Open a strategy scope and create/restore the model\n",
    "    with strategy.scope():\n",
    "        [model,nckpt] = make_or_restore_model()\n",
    "    #set up checkpoints and logs\n",
    "    callbacks = [\n",
    "        # This callback saves a SavedModel every epoch\n",
    "        tf.keras.callbacks.ModelCheckpoint(\n",
    "            filepath=checkpoint_dir + \"/ckpt-{epoch}\", save_freq=220\n",
    "        ),\n",
    "        # This callback logs every epoch\n",
    "        tf.keras.callbacks.CSVLogger(log_dir + \"/model_history_log.csv\", append=True),\n",
    "\n",
    "        # LEart rate scheduler\n",
    "        tf.keras.callbacks.LearningRateScheduler(lambda epoch: 1e-3*0.95**(epoch)))\n",
    "    ]\n",
    "    \n",
    "    #train\n",
    "    model.fit(\n",
    "        train_dataset,\n",
    "        epochs=epochs,\n",
    "        initial_epoch=nckpt,\n",
    "        callbacks=callbacks,\n",
    "        verbose=1,\n",
    "        validation_data = val_dataset\n",
    "    )\n",
    "    \n",
    "    #save at the end of epoch\n",
    "    model.save(output_path+'final_model')\n",
    "    "
   ]
  },
  {
   "cell_type": "code",
   "execution_count": 42,
   "metadata": {},
   "outputs": [
    {
     "name": "stdout",
     "output_type": "stream",
     "text": [
      "INFO:tensorflow:Using MirroredStrategy with devices ('/job:localhost/replica:0/task:0/device:GPU:0', '/job:localhost/replica:0/task:0/device:GPU:1')\n"
     ]
    },
    {
     "name": "stderr",
     "output_type": "stream",
     "text": [
      "INFO:tensorflow:Using MirroredStrategy with devices ('/job:localhost/replica:0/task:0/device:GPU:0', '/job:localhost/replica:0/task:0/device:GPU:1')\n"
     ]
    },
    {
     "name": "stdout",
     "output_type": "stream",
     "text": [
      "Number of GPUs: 2\n",
      "Checkpoint directory: /home/divij/Projects/2023-flame-ai-challenge/output/test_16/ckpt\n",
      "Restoring from /home/divij/Projects/2023-flame-ai-challenge/output/test_16/ckpt/ckpt-100\n",
      "Epoch 101/300\n"
     ]
    },
    {
     "name": "stderr",
     "output_type": "stream",
     "text": [
      "2023-09-15 11:40:42.795112: W tensorflow/core/grappler/optimizers/data/auto_shard.cc:784] AUTO sharding policy will apply DATA sharding policy as it failed to apply FILE sharding policy because of the following reason: Found an unshardable source dataset: name: \"TensorSliceDataset/_1\"\n",
      "op: \"TensorSliceDataset\"\n",
      "input: \"Placeholder/_0\"\n",
      "attr {\n",
      "  key: \"Toutput_types\"\n",
      "  value {\n",
      "    list {\n",
      "      type: DT_INT32\n",
      "    }\n",
      "  }\n",
      "}\n",
      "attr {\n",
      "  key: \"_cardinality\"\n",
      "  value {\n",
      "    i: 1382\n",
      "  }\n",
      "}\n",
      "attr {\n",
      "  key: \"is_files\"\n",
      "  value {\n",
      "    b: false\n",
      "  }\n",
      "}\n",
      "attr {\n",
      "  key: \"metadata\"\n",
      "  value {\n",
      "    s: \"\\n\\030TensorSliceDataset:15603\"\n",
      "  }\n",
      "}\n",
      "attr {\n",
      "  key: \"output_shapes\"\n",
      "  value {\n",
      "    list {\n",
      "      shape {\n",
      "      }\n",
      "    }\n",
      "  }\n",
      "}\n",
      "attr {\n",
      "  key: \"replicate_on_split\"\n",
      "  value {\n",
      "    b: false\n",
      "  }\n",
      "}\n",
      "experimental_type {\n",
      "  type_id: TFT_PRODUCT\n",
      "  args {\n",
      "    type_id: TFT_DATASET\n",
      "    args {\n",
      "      type_id: TFT_PRODUCT\n",
      "      args {\n",
      "        type_id: TFT_TENSOR\n",
      "        args {\n",
      "          type_id: TFT_INT32\n",
      "        }\n",
      "      }\n",
      "    }\n",
      "  }\n",
      "}\n",
      "\n"
     ]
    },
    {
     "name": "stdout",
     "output_type": "stream",
     "text": [
      "43/44 [============================>.] - ETA: 0s - loss: 0.2138 - mean_absolute_error: 0.2739"
     ]
    },
    {
     "name": "stderr",
     "output_type": "stream",
     "text": [
      "2023-09-15 11:40:58.785854: W tensorflow/core/grappler/optimizers/data/auto_shard.cc:784] AUTO sharding policy will apply DATA sharding policy as it failed to apply FILE sharding policy because of the following reason: Found an unshardable source dataset: name: \"TensorSliceDataset/_1\"\n",
      "op: \"TensorSliceDataset\"\n",
      "input: \"Placeholder/_0\"\n",
      "attr {\n",
      "  key: \"Toutput_types\"\n",
      "  value {\n",
      "    list {\n",
      "      type: DT_INT32\n",
      "    }\n",
      "  }\n",
      "}\n",
      "attr {\n",
      "  key: \"_cardinality\"\n",
      "  value {\n",
      "    i: 173\n",
      "  }\n",
      "}\n",
      "attr {\n",
      "  key: \"is_files\"\n",
      "  value {\n",
      "    b: false\n",
      "  }\n",
      "}\n",
      "attr {\n",
      "  key: \"metadata\"\n",
      "  value {\n",
      "    s: \"\\n\\030TensorSliceDataset:15609\"\n",
      "  }\n",
      "}\n",
      "attr {\n",
      "  key: \"output_shapes\"\n",
      "  value {\n",
      "    list {\n",
      "      shape {\n",
      "      }\n",
      "    }\n",
      "  }\n",
      "}\n",
      "attr {\n",
      "  key: \"replicate_on_split\"\n",
      "  value {\n",
      "    b: false\n",
      "  }\n",
      "}\n",
      "experimental_type {\n",
      "  type_id: TFT_PRODUCT\n",
      "  args {\n",
      "    type_id: TFT_DATASET\n",
      "    args {\n",
      "      type_id: TFT_PRODUCT\n",
      "      args {\n",
      "        type_id: TFT_TENSOR\n",
      "        args {\n",
      "          type_id: TFT_INT32\n",
      "        }\n",
      "      }\n",
      "    }\n",
      "  }\n",
      "}\n",
      "\n"
     ]
    },
    {
     "name": "stdout",
     "output_type": "stream",
     "text": [
      "44/44 [==============================] - 18s 160ms/step - loss: 0.2130 - mean_absolute_error: 0.2733 - val_loss: 0.0562 - val_mean_absolute_error: 0.1386 - lr: 0.0010\n",
      "Epoch 102/300\n",
      "44/44 [==============================] - 6s 129ms/step - loss: 0.0413 - mean_absolute_error: 0.1131 - val_loss: 0.0439 - val_mean_absolute_error: 0.1163 - lr: 0.0010\n",
      "Epoch 103/300\n",
      "44/44 [==============================] - 6s 130ms/step - loss: 0.0328 - mean_absolute_error: 0.0995 - val_loss: 0.0404 - val_mean_absolute_error: 0.1008 - lr: 0.0010\n",
      "Epoch 104/300\n",
      "44/44 [==============================] - 6s 138ms/step - loss: 0.0283 - mean_absolute_error: 0.0919 - val_loss: 0.0397 - val_mean_absolute_error: 0.0985 - lr: 0.0010\n",
      "Epoch 105/300\n",
      "43/44 [============================>.] - ETA: 0s - loss: 0.0254 - mean_absolute_error: 0.0879"
     ]
    },
    {
     "name": "stderr",
     "output_type": "stream",
     "text": [
      "WARNING:absl:Found untraced functions such as _jit_compiled_convolution_op, _jit_compiled_convolution_op, _jit_compiled_convolution_op, _jit_compiled_convolution_op, _jit_compiled_convolution_op while saving (showing 5 of 38). These functions will not be directly callable after loading.\n"
     ]
    },
    {
     "name": "stdout",
     "output_type": "stream",
     "text": [
      "INFO:tensorflow:Assets written to: /home/divij/Projects/2023-flame-ai-challenge/output/test_16/ckpt/ckpt-105/assets\n"
     ]
    },
    {
     "name": "stderr",
     "output_type": "stream",
     "text": [
      "INFO:tensorflow:Assets written to: /home/divij/Projects/2023-flame-ai-challenge/output/test_16/ckpt/ckpt-105/assets\n"
     ]
    },
    {
     "name": "stdout",
     "output_type": "stream",
     "text": [
      "44/44 [==============================] - 9s 203ms/step - loss: 0.0254 - mean_absolute_error: 0.0880 - val_loss: 0.0397 - val_mean_absolute_error: 0.0999 - lr: 0.0010\n",
      "Epoch 106/300\n",
      "44/44 [==============================] - 6s 132ms/step - loss: 0.0234 - mean_absolute_error: 0.0842 - val_loss: 0.0392 - val_mean_absolute_error: 0.0976 - lr: 0.0010\n",
      "Epoch 107/300\n",
      "44/44 [==============================] - 6s 130ms/step - loss: 0.0224 - mean_absolute_error: 0.0839 - val_loss: 0.0403 - val_mean_absolute_error: 0.0970 - lr: 0.0010\n",
      "Epoch 108/300\n",
      "44/44 [==============================] - 6s 132ms/step - loss: 0.0216 - mean_absolute_error: 0.0819 - val_loss: 0.0415 - val_mean_absolute_error: 0.1006 - lr: 0.0010\n",
      "Epoch 109/300\n",
      "44/44 [==============================] - 6s 131ms/step - loss: 0.0204 - mean_absolute_error: 0.0788 - val_loss: 0.0385 - val_mean_absolute_error: 0.0940 - lr: 0.0010\n",
      "Epoch 110/300\n",
      "43/44 [============================>.] - ETA: 0s - loss: 0.0191 - mean_absolute_error: 0.0759"
     ]
    },
    {
     "name": "stderr",
     "output_type": "stream",
     "text": [
      "WARNING:absl:Found untraced functions such as _jit_compiled_convolution_op, _jit_compiled_convolution_op, _jit_compiled_convolution_op, _jit_compiled_convolution_op, _jit_compiled_convolution_op while saving (showing 5 of 38). These functions will not be directly callable after loading.\n"
     ]
    },
    {
     "name": "stdout",
     "output_type": "stream",
     "text": [
      "INFO:tensorflow:Assets written to: /home/divij/Projects/2023-flame-ai-challenge/output/test_16/ckpt/ckpt-110/assets\n"
     ]
    },
    {
     "name": "stderr",
     "output_type": "stream",
     "text": [
      "INFO:tensorflow:Assets written to: /home/divij/Projects/2023-flame-ai-challenge/output/test_16/ckpt/ckpt-110/assets\n"
     ]
    },
    {
     "name": "stdout",
     "output_type": "stream",
     "text": [
      "44/44 [==============================] - 9s 210ms/step - loss: 0.0193 - mean_absolute_error: 0.0761 - val_loss: 0.0392 - val_mean_absolute_error: 0.0960 - lr: 0.0010\n",
      "Epoch 111/300\n",
      "44/44 [==============================] - 6s 131ms/step - loss: 0.0199 - mean_absolute_error: 0.0804 - val_loss: 0.0393 - val_mean_absolute_error: 0.0975 - lr: 0.0010\n",
      "Epoch 112/300\n",
      "44/44 [==============================] - 6s 129ms/step - loss: 0.0204 - mean_absolute_error: 0.0825 - val_loss: 0.0404 - val_mean_absolute_error: 0.1006 - lr: 0.0010\n",
      "Epoch 113/300\n",
      "44/44 [==============================] - 6s 134ms/step - loss: 0.0192 - mean_absolute_error: 0.0777 - val_loss: 0.0427 - val_mean_absolute_error: 0.1064 - lr: 0.0010\n",
      "Epoch 114/300\n",
      "44/44 [==============================] - 6s 131ms/step - loss: 0.0226 - mean_absolute_error: 0.0882 - val_loss: 0.0387 - val_mean_absolute_error: 0.0965 - lr: 0.0010\n",
      "Epoch 115/300\n",
      "43/44 [============================>.] - ETA: 0s - loss: 0.0193 - mean_absolute_error: 0.0798"
     ]
    },
    {
     "name": "stderr",
     "output_type": "stream",
     "text": [
      "WARNING:absl:Found untraced functions such as _jit_compiled_convolution_op, _jit_compiled_convolution_op, _jit_compiled_convolution_op, _jit_compiled_convolution_op, _jit_compiled_convolution_op while saving (showing 5 of 38). These functions will not be directly callable after loading.\n"
     ]
    },
    {
     "name": "stdout",
     "output_type": "stream",
     "text": [
      "INFO:tensorflow:Assets written to: /home/divij/Projects/2023-flame-ai-challenge/output/test_16/ckpt/ckpt-115/assets\n"
     ]
    },
    {
     "name": "stderr",
     "output_type": "stream",
     "text": [
      "INFO:tensorflow:Assets written to: /home/divij/Projects/2023-flame-ai-challenge/output/test_16/ckpt/ckpt-115/assets\n"
     ]
    },
    {
     "name": "stdout",
     "output_type": "stream",
     "text": [
      "44/44 [==============================] - 9s 195ms/step - loss: 0.0193 - mean_absolute_error: 0.0797 - val_loss: 0.0416 - val_mean_absolute_error: 0.1052 - lr: 0.0010\n",
      "Epoch 116/300\n",
      "44/44 [==============================] - 6s 131ms/step - loss: 0.0181 - mean_absolute_error: 0.0761 - val_loss: 0.0381 - val_mean_absolute_error: 0.0942 - lr: 0.0010\n",
      "Epoch 117/300\n",
      "44/44 [==============================] - 6s 133ms/step - loss: 0.0178 - mean_absolute_error: 0.0745 - val_loss: 0.0408 - val_mean_absolute_error: 0.0985 - lr: 0.0010\n",
      "Epoch 118/300\n",
      "44/44 [==============================] - 6s 132ms/step - loss: 0.0174 - mean_absolute_error: 0.0738 - val_loss: 0.0387 - val_mean_absolute_error: 0.0935 - lr: 0.0010\n",
      "Epoch 119/300\n",
      "44/44 [==============================] - 6s 129ms/step - loss: 0.0165 - mean_absolute_error: 0.0718 - val_loss: 0.0390 - val_mean_absolute_error: 0.0969 - lr: 0.0010\n",
      "Epoch 120/300\n",
      "43/44 [============================>.] - ETA: 0s - loss: 0.0166 - mean_absolute_error: 0.0732"
     ]
    },
    {
     "name": "stderr",
     "output_type": "stream",
     "text": [
      "WARNING:absl:Found untraced functions such as _jit_compiled_convolution_op, _jit_compiled_convolution_op, _jit_compiled_convolution_op, _jit_compiled_convolution_op, _jit_compiled_convolution_op while saving (showing 5 of 38). These functions will not be directly callable after loading.\n"
     ]
    },
    {
     "name": "stdout",
     "output_type": "stream",
     "text": [
      "INFO:tensorflow:Assets written to: /home/divij/Projects/2023-flame-ai-challenge/output/test_16/ckpt/ckpt-120/assets\n"
     ]
    },
    {
     "name": "stderr",
     "output_type": "stream",
     "text": [
      "INFO:tensorflow:Assets written to: /home/divij/Projects/2023-flame-ai-challenge/output/test_16/ckpt/ckpt-120/assets\n"
     ]
    },
    {
     "name": "stdout",
     "output_type": "stream",
     "text": [
      "44/44 [==============================] - 9s 212ms/step - loss: 0.0165 - mean_absolute_error: 0.0731 - val_loss: 0.0388 - val_mean_absolute_error: 0.0930 - lr: 0.0010\n",
      "Epoch 121/300\n",
      "44/44 [==============================] - 6s 131ms/step - loss: 0.0158 - mean_absolute_error: 0.0701 - val_loss: 0.0398 - val_mean_absolute_error: 0.0969 - lr: 0.0010\n",
      "Epoch 122/300\n",
      "44/44 [==============================] - 6s 132ms/step - loss: 0.0179 - mean_absolute_error: 0.0777 - val_loss: 0.0419 - val_mean_absolute_error: 0.1025 - lr: 0.0010\n",
      "Epoch 123/300\n",
      "44/44 [==============================] - 6s 136ms/step - loss: 0.0189 - mean_absolute_error: 0.0802 - val_loss: 0.0388 - val_mean_absolute_error: 0.0957 - lr: 0.0010\n",
      "Epoch 124/300\n",
      "44/44 [==============================] - 6s 132ms/step - loss: 0.0170 - mean_absolute_error: 0.0751 - val_loss: 0.0390 - val_mean_absolute_error: 0.0958 - lr: 0.0010\n",
      "Epoch 125/300\n",
      "43/44 [============================>.] - ETA: 0s - loss: 0.0167 - mean_absolute_error: 0.0776"
     ]
    },
    {
     "name": "stderr",
     "output_type": "stream",
     "text": [
      "WARNING:absl:Found untraced functions such as _jit_compiled_convolution_op, _jit_compiled_convolution_op, _jit_compiled_convolution_op, _jit_compiled_convolution_op, _jit_compiled_convolution_op while saving (showing 5 of 38). These functions will not be directly callable after loading.\n"
     ]
    },
    {
     "name": "stdout",
     "output_type": "stream",
     "text": [
      "INFO:tensorflow:Assets written to: /home/divij/Projects/2023-flame-ai-challenge/output/test_16/ckpt/ckpt-125/assets\n"
     ]
    },
    {
     "name": "stderr",
     "output_type": "stream",
     "text": [
      "INFO:tensorflow:Assets written to: /home/divij/Projects/2023-flame-ai-challenge/output/test_16/ckpt/ckpt-125/assets\n"
     ]
    },
    {
     "name": "stdout",
     "output_type": "stream",
     "text": [
      "44/44 [==============================] - 8s 194ms/step - loss: 0.0167 - mean_absolute_error: 0.0776 - val_loss: 0.0408 - val_mean_absolute_error: 0.1050 - lr: 0.0010\n",
      "Epoch 126/300\n",
      "44/44 [==============================] - 6s 131ms/step - loss: 0.0159 - mean_absolute_error: 0.0737 - val_loss: 0.0382 - val_mean_absolute_error: 0.0951 - lr: 0.0010\n",
      "Epoch 127/300\n",
      "44/44 [==============================] - 6s 139ms/step - loss: 0.0153 - mean_absolute_error: 0.0705 - val_loss: 0.0417 - val_mean_absolute_error: 0.1015 - lr: 0.0010\n",
      "Epoch 128/300\n",
      "44/44 [==============================] - 6s 132ms/step - loss: 0.0214 - mean_absolute_error: 0.0896 - val_loss: 0.0422 - val_mean_absolute_error: 0.1039 - lr: 0.0010\n",
      "Epoch 129/300\n",
      "44/44 [==============================] - 6s 137ms/step - loss: 0.0199 - mean_absolute_error: 0.0852 - val_loss: 0.0429 - val_mean_absolute_error: 0.1078 - lr: 0.0010\n",
      "Epoch 130/300\n",
      "43/44 [============================>.] - ETA: 0s - loss: 0.0163 - mean_absolute_error: 0.0757"
     ]
    },
    {
     "name": "stderr",
     "output_type": "stream",
     "text": [
      "WARNING:absl:Found untraced functions such as _jit_compiled_convolution_op, _jit_compiled_convolution_op, _jit_compiled_convolution_op, _jit_compiled_convolution_op, _jit_compiled_convolution_op while saving (showing 5 of 38). These functions will not be directly callable after loading.\n"
     ]
    },
    {
     "name": "stdout",
     "output_type": "stream",
     "text": [
      "INFO:tensorflow:Assets written to: /home/divij/Projects/2023-flame-ai-challenge/output/test_16/ckpt/ckpt-130/assets\n"
     ]
    },
    {
     "name": "stderr",
     "output_type": "stream",
     "text": [
      "INFO:tensorflow:Assets written to: /home/divij/Projects/2023-flame-ai-challenge/output/test_16/ckpt/ckpt-130/assets\n"
     ]
    },
    {
     "name": "stdout",
     "output_type": "stream",
     "text": [
      "44/44 [==============================] - 9s 199ms/step - loss: 0.0163 - mean_absolute_error: 0.0756 - val_loss: 0.0379 - val_mean_absolute_error: 0.0921 - lr: 0.0010\n",
      "Epoch 131/300\n",
      "44/44 [==============================] - 6s 131ms/step - loss: 0.0140 - mean_absolute_error: 0.0672 - val_loss: 0.0374 - val_mean_absolute_error: 0.0916 - lr: 0.0010\n",
      "Epoch 132/300\n",
      "44/44 [==============================] - 6s 134ms/step - loss: 0.0135 - mean_absolute_error: 0.0662 - val_loss: 0.0377 - val_mean_absolute_error: 0.0900 - lr: 0.0010\n",
      "Epoch 133/300\n",
      "44/44 [==============================] - 6s 133ms/step - loss: 0.0149 - mean_absolute_error: 0.0700 - val_loss: 0.0434 - val_mean_absolute_error: 0.1106 - lr: 0.0010\n",
      "Epoch 134/300\n",
      "44/44 [==============================] - 6s 135ms/step - loss: 0.0149 - mean_absolute_error: 0.0709 - val_loss: 0.0391 - val_mean_absolute_error: 0.0974 - lr: 0.0010\n",
      "Epoch 135/300\n",
      "43/44 [============================>.] - ETA: 0s - loss: 0.0135 - mean_absolute_error: 0.0669"
     ]
    },
    {
     "name": "stderr",
     "output_type": "stream",
     "text": [
      "WARNING:absl:Found untraced functions such as _jit_compiled_convolution_op, _jit_compiled_convolution_op, _jit_compiled_convolution_op, _jit_compiled_convolution_op, _jit_compiled_convolution_op while saving (showing 5 of 38). These functions will not be directly callable after loading.\n"
     ]
    },
    {
     "name": "stdout",
     "output_type": "stream",
     "text": [
      "INFO:tensorflow:Assets written to: /home/divij/Projects/2023-flame-ai-challenge/output/test_16/ckpt/ckpt-135/assets\n"
     ]
    },
    {
     "name": "stderr",
     "output_type": "stream",
     "text": [
      "INFO:tensorflow:Assets written to: /home/divij/Projects/2023-flame-ai-challenge/output/test_16/ckpt/ckpt-135/assets\n"
     ]
    },
    {
     "name": "stdout",
     "output_type": "stream",
     "text": [
      "44/44 [==============================] - 9s 217ms/step - loss: 0.0136 - mean_absolute_error: 0.0671 - val_loss: 0.0385 - val_mean_absolute_error: 0.0948 - lr: 0.0010\n",
      "Epoch 136/300\n",
      "44/44 [==============================] - 6s 129ms/step - loss: 0.0140 - mean_absolute_error: 0.0684 - val_loss: 0.0400 - val_mean_absolute_error: 0.0992 - lr: 0.0010\n",
      "Epoch 137/300\n",
      "44/44 [==============================] - 6s 128ms/step - loss: 0.0139 - mean_absolute_error: 0.0697 - val_loss: 0.0415 - val_mean_absolute_error: 0.1091 - lr: 0.0010\n",
      "Epoch 138/300\n",
      "44/44 [==============================] - 6s 130ms/step - loss: 0.0147 - mean_absolute_error: 0.0724 - val_loss: 0.0400 - val_mean_absolute_error: 0.0992 - lr: 0.0010\n",
      "Epoch 139/300\n",
      "44/44 [==============================] - 6s 132ms/step - loss: 0.0145 - mean_absolute_error: 0.0724 - val_loss: 0.0391 - val_mean_absolute_error: 0.0958 - lr: 0.0010\n",
      "Epoch 140/300\n",
      "43/44 [============================>.] - ETA: 0s - loss: 0.0140 - mean_absolute_error: 0.0706"
     ]
    },
    {
     "name": "stderr",
     "output_type": "stream",
     "text": [
      "WARNING:absl:Found untraced functions such as _jit_compiled_convolution_op, _jit_compiled_convolution_op, _jit_compiled_convolution_op, _jit_compiled_convolution_op, _jit_compiled_convolution_op while saving (showing 5 of 38). These functions will not be directly callable after loading.\n"
     ]
    },
    {
     "name": "stdout",
     "output_type": "stream",
     "text": [
      "INFO:tensorflow:Assets written to: /home/divij/Projects/2023-flame-ai-challenge/output/test_16/ckpt/ckpt-140/assets\n"
     ]
    },
    {
     "name": "stderr",
     "output_type": "stream",
     "text": [
      "INFO:tensorflow:Assets written to: /home/divij/Projects/2023-flame-ai-challenge/output/test_16/ckpt/ckpt-140/assets\n"
     ]
    },
    {
     "name": "stdout",
     "output_type": "stream",
     "text": [
      "44/44 [==============================] - 9s 198ms/step - loss: 0.0140 - mean_absolute_error: 0.0706 - val_loss: 0.0405 - val_mean_absolute_error: 0.1023 - lr: 0.0010\n",
      "Epoch 141/300\n",
      "44/44 [==============================] - 6s 132ms/step - loss: 0.0139 - mean_absolute_error: 0.0710 - val_loss: 0.0392 - val_mean_absolute_error: 0.0972 - lr: 0.0010\n",
      "Epoch 142/300\n",
      "44/44 [==============================] - 6s 131ms/step - loss: 0.0198 - mean_absolute_error: 0.0910 - val_loss: 0.0401 - val_mean_absolute_error: 0.0983 - lr: 0.0010\n",
      "Epoch 143/300\n",
      "44/44 [==============================] - 6s 129ms/step - loss: 0.0141 - mean_absolute_error: 0.0694 - val_loss: 0.0419 - val_mean_absolute_error: 0.1058 - lr: 0.0010\n",
      "Epoch 144/300\n",
      "44/44 [==============================] - 6s 132ms/step - loss: 0.0146 - mean_absolute_error: 0.0727 - val_loss: 0.0393 - val_mean_absolute_error: 0.0993 - lr: 0.0010\n",
      "Epoch 145/300\n",
      "43/44 [============================>.] - ETA: 0s - loss: 0.0129 - mean_absolute_error: 0.0674"
     ]
    },
    {
     "name": "stderr",
     "output_type": "stream",
     "text": [
      "WARNING:absl:Found untraced functions such as _jit_compiled_convolution_op, _jit_compiled_convolution_op, _jit_compiled_convolution_op, _jit_compiled_convolution_op, _jit_compiled_convolution_op while saving (showing 5 of 38). These functions will not be directly callable after loading.\n"
     ]
    },
    {
     "name": "stdout",
     "output_type": "stream",
     "text": [
      "INFO:tensorflow:Assets written to: /home/divij/Projects/2023-flame-ai-challenge/output/test_16/ckpt/ckpt-145/assets\n"
     ]
    },
    {
     "name": "stderr",
     "output_type": "stream",
     "text": [
      "INFO:tensorflow:Assets written to: /home/divij/Projects/2023-flame-ai-challenge/output/test_16/ckpt/ckpt-145/assets\n"
     ]
    },
    {
     "name": "stdout",
     "output_type": "stream",
     "text": [
      "44/44 [==============================] - 9s 213ms/step - loss: 0.0129 - mean_absolute_error: 0.0674 - val_loss: 0.0381 - val_mean_absolute_error: 0.0920 - lr: 0.0010\n",
      "Epoch 146/300\n",
      "44/44 [==============================] - 6s 130ms/step - loss: 0.0135 - mean_absolute_error: 0.0685 - val_loss: 0.0385 - val_mean_absolute_error: 0.0944 - lr: 0.0010\n",
      "Epoch 147/300\n",
      "44/44 [==============================] - 6s 131ms/step - loss: 0.0131 - mean_absolute_error: 0.0692 - val_loss: 0.0420 - val_mean_absolute_error: 0.1043 - lr: 0.0010\n",
      "Epoch 148/300\n",
      "44/44 [==============================] - 6s 129ms/step - loss: 0.0129 - mean_absolute_error: 0.0675 - val_loss: 0.0391 - val_mean_absolute_error: 0.0948 - lr: 0.0010\n",
      "Epoch 149/300\n",
      "44/44 [==============================] - 6s 131ms/step - loss: 0.0118 - mean_absolute_error: 0.0636 - val_loss: 0.0379 - val_mean_absolute_error: 0.0937 - lr: 0.0010\n",
      "Epoch 150/300\n",
      "43/44 [============================>.] - ETA: 0s - loss: 0.0117 - mean_absolute_error: 0.0635"
     ]
    },
    {
     "name": "stderr",
     "output_type": "stream",
     "text": [
      "WARNING:absl:Found untraced functions such as _jit_compiled_convolution_op, _jit_compiled_convolution_op, _jit_compiled_convolution_op, _jit_compiled_convolution_op, _jit_compiled_convolution_op while saving (showing 5 of 38). These functions will not be directly callable after loading.\n"
     ]
    },
    {
     "name": "stdout",
     "output_type": "stream",
     "text": [
      "INFO:tensorflow:Assets written to: /home/divij/Projects/2023-flame-ai-challenge/output/test_16/ckpt/ckpt-150/assets\n"
     ]
    },
    {
     "name": "stderr",
     "output_type": "stream",
     "text": [
      "INFO:tensorflow:Assets written to: /home/divij/Projects/2023-flame-ai-challenge/output/test_16/ckpt/ckpt-150/assets\n"
     ]
    },
    {
     "name": "stdout",
     "output_type": "stream",
     "text": [
      "44/44 [==============================] - 9s 196ms/step - loss: 0.0117 - mean_absolute_error: 0.0635 - val_loss: 0.0394 - val_mean_absolute_error: 0.1003 - lr: 0.0010\n",
      "Epoch 151/300\n",
      "44/44 [==============================] - 6s 133ms/step - loss: 0.0128 - mean_absolute_error: 0.0698 - val_loss: 0.0402 - val_mean_absolute_error: 0.1045 - lr: 0.0010\n",
      "Epoch 152/300\n",
      "44/44 [==============================] - 6s 133ms/step - loss: 0.0134 - mean_absolute_error: 0.0721 - val_loss: 0.0386 - val_mean_absolute_error: 0.0950 - lr: 0.0010\n",
      "Epoch 153/300\n",
      "44/44 [==============================] - 6s 130ms/step - loss: 0.0130 - mean_absolute_error: 0.0674 - val_loss: 0.0419 - val_mean_absolute_error: 0.1079 - lr: 0.0010\n",
      "Epoch 154/300\n",
      "44/44 [==============================] - 6s 132ms/step - loss: 0.0143 - mean_absolute_error: 0.0737 - val_loss: 0.0381 - val_mean_absolute_error: 0.0926 - lr: 0.0010\n",
      "Epoch 155/300\n",
      "43/44 [============================>.] - ETA: 0s - loss: 0.0124 - mean_absolute_error: 0.0668"
     ]
    },
    {
     "name": "stderr",
     "output_type": "stream",
     "text": [
      "WARNING:absl:Found untraced functions such as _jit_compiled_convolution_op, _jit_compiled_convolution_op, _jit_compiled_convolution_op, _jit_compiled_convolution_op, _jit_compiled_convolution_op while saving (showing 5 of 38). These functions will not be directly callable after loading.\n"
     ]
    },
    {
     "name": "stdout",
     "output_type": "stream",
     "text": [
      "INFO:tensorflow:Assets written to: /home/divij/Projects/2023-flame-ai-challenge/output/test_16/ckpt/ckpt-155/assets\n"
     ]
    },
    {
     "name": "stderr",
     "output_type": "stream",
     "text": [
      "INFO:tensorflow:Assets written to: /home/divij/Projects/2023-flame-ai-challenge/output/test_16/ckpt/ckpt-155/assets\n"
     ]
    },
    {
     "name": "stdout",
     "output_type": "stream",
     "text": [
      "44/44 [==============================] - 8s 194ms/step - loss: 0.0124 - mean_absolute_error: 0.0668 - val_loss: 0.0400 - val_mean_absolute_error: 0.1027 - lr: 0.0010\n",
      "Epoch 156/300\n",
      "44/44 [==============================] - 6s 130ms/step - loss: 0.0132 - mean_absolute_error: 0.0722 - val_loss: 0.0395 - val_mean_absolute_error: 0.0990 - lr: 0.0010\n",
      "Epoch 157/300\n",
      "44/44 [==============================] - 6s 135ms/step - loss: 0.0149 - mean_absolute_error: 0.0759 - val_loss: 0.0429 - val_mean_absolute_error: 0.1092 - lr: 0.0010\n",
      "Epoch 158/300\n",
      "44/44 [==============================] - 6s 132ms/step - loss: 0.0137 - mean_absolute_error: 0.0719 - val_loss: 0.0428 - val_mean_absolute_error: 0.1068 - lr: 0.0010\n",
      "Epoch 159/300\n",
      "44/44 [==============================] - 6s 131ms/step - loss: 0.0161 - mean_absolute_error: 0.0798 - val_loss: 0.0387 - val_mean_absolute_error: 0.0981 - lr: 0.0010\n",
      "Epoch 160/300\n",
      "43/44 [============================>.] - ETA: 0s - loss: 0.0137 - mean_absolute_error: 0.0747"
     ]
    },
    {
     "name": "stderr",
     "output_type": "stream",
     "text": [
      "WARNING:absl:Found untraced functions such as _jit_compiled_convolution_op, _jit_compiled_convolution_op, _jit_compiled_convolution_op, _jit_compiled_convolution_op, _jit_compiled_convolution_op while saving (showing 5 of 38). These functions will not be directly callable after loading.\n"
     ]
    },
    {
     "name": "stdout",
     "output_type": "stream",
     "text": [
      "INFO:tensorflow:Assets written to: /home/divij/Projects/2023-flame-ai-challenge/output/test_16/ckpt/ckpt-160/assets\n"
     ]
    },
    {
     "name": "stderr",
     "output_type": "stream",
     "text": [
      "INFO:tensorflow:Assets written to: /home/divij/Projects/2023-flame-ai-challenge/output/test_16/ckpt/ckpt-160/assets\n"
     ]
    },
    {
     "name": "stdout",
     "output_type": "stream",
     "text": [
      "44/44 [==============================] - 9s 216ms/step - loss: 0.0138 - mean_absolute_error: 0.0748 - val_loss: 0.0395 - val_mean_absolute_error: 0.0987 - lr: 0.0010\n",
      "Epoch 161/300\n",
      "44/44 [==============================] - 6s 130ms/step - loss: 0.0134 - mean_absolute_error: 0.0695 - val_loss: 0.0410 - val_mean_absolute_error: 0.1093 - lr: 0.0010\n",
      "Epoch 162/300\n",
      "44/44 [==============================] - 6s 130ms/step - loss: 0.0124 - mean_absolute_error: 0.0693 - val_loss: 0.0401 - val_mean_absolute_error: 0.1051 - lr: 0.0010\n",
      "Epoch 163/300\n",
      "44/44 [==============================] - 6s 128ms/step - loss: 0.0127 - mean_absolute_error: 0.0729 - val_loss: 0.0398 - val_mean_absolute_error: 0.0972 - lr: 0.0010\n",
      "Epoch 164/300\n",
      "44/44 [==============================] - 6s 129ms/step - loss: 0.0115 - mean_absolute_error: 0.0658 - val_loss: 0.0394 - val_mean_absolute_error: 0.0984 - lr: 0.0010\n",
      "Epoch 165/300\n",
      "43/44 [============================>.] - ETA: 0s - loss: 0.0133 - mean_absolute_error: 0.0715"
     ]
    },
    {
     "name": "stderr",
     "output_type": "stream",
     "text": [
      "WARNING:absl:Found untraced functions such as _jit_compiled_convolution_op, _jit_compiled_convolution_op, _jit_compiled_convolution_op, _jit_compiled_convolution_op, _jit_compiled_convolution_op while saving (showing 5 of 38). These functions will not be directly callable after loading.\n"
     ]
    },
    {
     "name": "stdout",
     "output_type": "stream",
     "text": [
      "INFO:tensorflow:Assets written to: /home/divij/Projects/2023-flame-ai-challenge/output/test_16/ckpt/ckpt-165/assets\n"
     ]
    },
    {
     "name": "stderr",
     "output_type": "stream",
     "text": [
      "INFO:tensorflow:Assets written to: /home/divij/Projects/2023-flame-ai-challenge/output/test_16/ckpt/ckpt-165/assets\n"
     ]
    },
    {
     "name": "stdout",
     "output_type": "stream",
     "text": [
      "44/44 [==============================] - 8s 194ms/step - loss: 0.0134 - mean_absolute_error: 0.0716 - val_loss: 0.0406 - val_mean_absolute_error: 0.1052 - lr: 0.0010\n",
      "Epoch 166/300\n",
      "44/44 [==============================] - 6s 134ms/step - loss: 0.0137 - mean_absolute_error: 0.0716 - val_loss: 0.0387 - val_mean_absolute_error: 0.0991 - lr: 0.0010\n",
      "Epoch 167/300\n",
      "44/44 [==============================] - 6s 131ms/step - loss: 0.0124 - mean_absolute_error: 0.0682 - val_loss: 0.0385 - val_mean_absolute_error: 0.0964 - lr: 0.0010\n",
      "Epoch 168/300\n",
      "44/44 [==============================] - 6s 137ms/step - loss: 0.0101 - mean_absolute_error: 0.0594 - val_loss: 0.0381 - val_mean_absolute_error: 0.0960 - lr: 0.0010\n",
      "Epoch 169/300\n",
      "44/44 [==============================] - 6s 134ms/step - loss: 0.0105 - mean_absolute_error: 0.0637 - val_loss: 0.0384 - val_mean_absolute_error: 0.0953 - lr: 0.0010\n",
      "Epoch 170/300\n",
      "43/44 [============================>.] - ETA: 0s - loss: 0.0100 - mean_absolute_error: 0.0616"
     ]
    },
    {
     "name": "stderr",
     "output_type": "stream",
     "text": [
      "WARNING:absl:Found untraced functions such as _jit_compiled_convolution_op, _jit_compiled_convolution_op, _jit_compiled_convolution_op, _jit_compiled_convolution_op, _jit_compiled_convolution_op while saving (showing 5 of 38). These functions will not be directly callable after loading.\n"
     ]
    },
    {
     "name": "stdout",
     "output_type": "stream",
     "text": [
      "INFO:tensorflow:Assets written to: /home/divij/Projects/2023-flame-ai-challenge/output/test_16/ckpt/ckpt-170/assets\n"
     ]
    },
    {
     "name": "stderr",
     "output_type": "stream",
     "text": [
      "INFO:tensorflow:Assets written to: /home/divij/Projects/2023-flame-ai-challenge/output/test_16/ckpt/ckpt-170/assets\n"
     ]
    },
    {
     "name": "stdout",
     "output_type": "stream",
     "text": [
      "44/44 [==============================] - 9s 217ms/step - loss: 0.0100 - mean_absolute_error: 0.0616 - val_loss: 0.0388 - val_mean_absolute_error: 0.0960 - lr: 0.0010\n",
      "Epoch 171/300\n",
      "44/44 [==============================] - 6s 132ms/step - loss: 0.0091 - mean_absolute_error: 0.0570 - val_loss: 0.0378 - val_mean_absolute_error: 0.0905 - lr: 0.0010\n",
      "Epoch 172/300\n",
      "44/44 [==============================] - 6s 133ms/step - loss: 0.0094 - mean_absolute_error: 0.0584 - val_loss: 0.0434 - val_mean_absolute_error: 0.1073 - lr: 0.0010\n",
      "Epoch 173/300\n",
      "44/44 [==============================] - 6s 140ms/step - loss: 0.0123 - mean_absolute_error: 0.0685 - val_loss: 0.0385 - val_mean_absolute_error: 0.0942 - lr: 0.0010\n",
      "Epoch 174/300\n",
      "44/44 [==============================] - 6s 132ms/step - loss: 0.0099 - mean_absolute_error: 0.0593 - val_loss: 0.0377 - val_mean_absolute_error: 0.0907 - lr: 0.0010\n",
      "Epoch 175/300\n",
      "43/44 [============================>.] - ETA: 0s - loss: 0.0094 - mean_absolute_error: 0.0579"
     ]
    },
    {
     "name": "stderr",
     "output_type": "stream",
     "text": [
      "WARNING:absl:Found untraced functions such as _jit_compiled_convolution_op, _jit_compiled_convolution_op, _jit_compiled_convolution_op, _jit_compiled_convolution_op, _jit_compiled_convolution_op while saving (showing 5 of 38). These functions will not be directly callable after loading.\n"
     ]
    },
    {
     "name": "stdout",
     "output_type": "stream",
     "text": [
      "INFO:tensorflow:Assets written to: /home/divij/Projects/2023-flame-ai-challenge/output/test_16/ckpt/ckpt-175/assets\n"
     ]
    },
    {
     "name": "stderr",
     "output_type": "stream",
     "text": [
      "INFO:tensorflow:Assets written to: /home/divij/Projects/2023-flame-ai-challenge/output/test_16/ckpt/ckpt-175/assets\n"
     ]
    },
    {
     "name": "stdout",
     "output_type": "stream",
     "text": [
      "44/44 [==============================] - 9s 196ms/step - loss: 0.0094 - mean_absolute_error: 0.0579 - val_loss: 0.0380 - val_mean_absolute_error: 0.0969 - lr: 0.0010\n",
      "Epoch 176/300\n",
      "44/44 [==============================] - 6s 135ms/step - loss: 0.0105 - mean_absolute_error: 0.0625 - val_loss: 0.0392 - val_mean_absolute_error: 0.0998 - lr: 0.0010\n",
      "Epoch 177/300\n",
      "44/44 [==============================] - 6s 133ms/step - loss: 0.0103 - mean_absolute_error: 0.0630 - val_loss: 0.0406 - val_mean_absolute_error: 0.1008 - lr: 0.0010\n",
      "Epoch 178/300\n",
      "44/44 [==============================] - 6s 134ms/step - loss: 0.0103 - mean_absolute_error: 0.0607 - val_loss: 0.0387 - val_mean_absolute_error: 0.0932 - lr: 0.0010\n",
      "Epoch 179/300\n",
      "44/44 [==============================] - 6s 136ms/step - loss: 0.0108 - mean_absolute_error: 0.0605 - val_loss: 0.0410 - val_mean_absolute_error: 0.1005 - lr: 0.0010\n",
      "Epoch 180/300\n",
      "43/44 [============================>.] - ETA: 0s - loss: 0.0128 - mean_absolute_error: 0.0670"
     ]
    },
    {
     "name": "stderr",
     "output_type": "stream",
     "text": [
      "WARNING:absl:Found untraced functions such as _jit_compiled_convolution_op, _jit_compiled_convolution_op, _jit_compiled_convolution_op, _jit_compiled_convolution_op, _jit_compiled_convolution_op while saving (showing 5 of 38). These functions will not be directly callable after loading.\n"
     ]
    },
    {
     "name": "stdout",
     "output_type": "stream",
     "text": [
      "INFO:tensorflow:Assets written to: /home/divij/Projects/2023-flame-ai-challenge/output/test_16/ckpt/ckpt-180/assets\n"
     ]
    },
    {
     "name": "stderr",
     "output_type": "stream",
     "text": [
      "INFO:tensorflow:Assets written to: /home/divij/Projects/2023-flame-ai-challenge/output/test_16/ckpt/ckpt-180/assets\n"
     ]
    },
    {
     "name": "stdout",
     "output_type": "stream",
     "text": [
      "44/44 [==============================] - 9s 213ms/step - loss: 0.0128 - mean_absolute_error: 0.0670 - val_loss: 0.0376 - val_mean_absolute_error: 0.1000 - lr: 0.0010\n",
      "Epoch 181/300\n",
      "44/44 [==============================] - 6s 131ms/step - loss: 0.0112 - mean_absolute_error: 0.0632 - val_loss: 0.0371 - val_mean_absolute_error: 0.0941 - lr: 0.0010\n",
      "Epoch 182/300\n",
      "44/44 [==============================] - 6s 134ms/step - loss: 0.0111 - mean_absolute_error: 0.0651 - val_loss: 0.0370 - val_mean_absolute_error: 0.0911 - lr: 0.0010\n",
      "Epoch 183/300\n",
      "44/44 [==============================] - 6s 132ms/step - loss: 0.0097 - mean_absolute_error: 0.0595 - val_loss: 0.0371 - val_mean_absolute_error: 0.0918 - lr: 0.0010\n",
      "Epoch 184/300\n",
      "44/44 [==============================] - 6s 128ms/step - loss: 0.0090 - mean_absolute_error: 0.0571 - val_loss: 0.0371 - val_mean_absolute_error: 0.0901 - lr: 0.0010\n",
      "Epoch 185/300\n",
      "43/44 [============================>.] - ETA: 0s - loss: 0.0081 - mean_absolute_error: 0.0530"
     ]
    },
    {
     "name": "stderr",
     "output_type": "stream",
     "text": [
      "WARNING:absl:Found untraced functions such as _jit_compiled_convolution_op, _jit_compiled_convolution_op, _jit_compiled_convolution_op, _jit_compiled_convolution_op, _jit_compiled_convolution_op while saving (showing 5 of 38). These functions will not be directly callable after loading.\n"
     ]
    },
    {
     "name": "stdout",
     "output_type": "stream",
     "text": [
      "INFO:tensorflow:Assets written to: /home/divij/Projects/2023-flame-ai-challenge/output/test_16/ckpt/ckpt-185/assets\n"
     ]
    },
    {
     "name": "stderr",
     "output_type": "stream",
     "text": [
      "INFO:tensorflow:Assets written to: /home/divij/Projects/2023-flame-ai-challenge/output/test_16/ckpt/ckpt-185/assets\n"
     ]
    },
    {
     "name": "stdout",
     "output_type": "stream",
     "text": [
      "44/44 [==============================] - 8s 193ms/step - loss: 0.0081 - mean_absolute_error: 0.0532 - val_loss: 0.0380 - val_mean_absolute_error: 0.0959 - lr: 0.0010\n",
      "Epoch 186/300\n",
      "44/44 [==============================] - 6s 131ms/step - loss: 0.0099 - mean_absolute_error: 0.0625 - val_loss: 0.0375 - val_mean_absolute_error: 0.0926 - lr: 0.0010\n",
      "Epoch 187/300\n",
      "44/44 [==============================] - 6s 136ms/step - loss: 0.0090 - mean_absolute_error: 0.0583 - val_loss: 0.0372 - val_mean_absolute_error: 0.0913 - lr: 0.0010\n",
      "Epoch 188/300\n",
      "44/44 [==============================] - 6s 132ms/step - loss: 0.0084 - mean_absolute_error: 0.0557 - val_loss: 0.0383 - val_mean_absolute_error: 0.0943 - lr: 0.0010\n",
      "Epoch 189/300\n",
      "44/44 [==============================] - 6s 130ms/step - loss: 0.0084 - mean_absolute_error: 0.0537 - val_loss: 0.0369 - val_mean_absolute_error: 0.0889 - lr: 0.0010\n",
      "Epoch 190/300\n",
      "43/44 [============================>.] - ETA: 0s - loss: 0.0081 - mean_absolute_error: 0.0524"
     ]
    },
    {
     "name": "stderr",
     "output_type": "stream",
     "text": [
      "WARNING:absl:Found untraced functions such as _jit_compiled_convolution_op, _jit_compiled_convolution_op, _jit_compiled_convolution_op, _jit_compiled_convolution_op, _jit_compiled_convolution_op while saving (showing 5 of 38). These functions will not be directly callable after loading.\n"
     ]
    },
    {
     "name": "stdout",
     "output_type": "stream",
     "text": [
      "INFO:tensorflow:Assets written to: /home/divij/Projects/2023-flame-ai-challenge/output/test_16/ckpt/ckpt-190/assets\n"
     ]
    },
    {
     "name": "stderr",
     "output_type": "stream",
     "text": [
      "INFO:tensorflow:Assets written to: /home/divij/Projects/2023-flame-ai-challenge/output/test_16/ckpt/ckpt-190/assets\n"
     ]
    },
    {
     "name": "stdout",
     "output_type": "stream",
     "text": [
      "44/44 [==============================] - 9s 196ms/step - loss: 0.0081 - mean_absolute_error: 0.0525 - val_loss: 0.0374 - val_mean_absolute_error: 0.0898 - lr: 0.0010\n",
      "Epoch 191/300\n",
      "44/44 [==============================] - 6s 133ms/step - loss: 0.0096 - mean_absolute_error: 0.0579 - val_loss: 0.0370 - val_mean_absolute_error: 0.0941 - lr: 0.0010\n",
      "Epoch 192/300\n",
      "44/44 [==============================] - 6s 134ms/step - loss: 0.0099 - mean_absolute_error: 0.0612 - val_loss: 0.0374 - val_mean_absolute_error: 0.0942 - lr: 0.0010\n",
      "Epoch 193/300\n",
      "44/44 [==============================] - 6s 131ms/step - loss: 0.0101 - mean_absolute_error: 0.0634 - val_loss: 0.0385 - val_mean_absolute_error: 0.0974 - lr: 0.0010\n",
      "Epoch 194/300\n",
      "44/44 [==============================] - 6s 133ms/step - loss: 0.0110 - mean_absolute_error: 0.0662 - val_loss: 0.0389 - val_mean_absolute_error: 0.0955 - lr: 0.0010\n",
      "Epoch 195/300\n",
      "43/44 [============================>.] - ETA: 0s - loss: 0.0111 - mean_absolute_error: 0.0669"
     ]
    },
    {
     "name": "stderr",
     "output_type": "stream",
     "text": [
      "WARNING:absl:Found untraced functions such as _jit_compiled_convolution_op, _jit_compiled_convolution_op, _jit_compiled_convolution_op, _jit_compiled_convolution_op, _jit_compiled_convolution_op while saving (showing 5 of 38). These functions will not be directly callable after loading.\n"
     ]
    },
    {
     "name": "stdout",
     "output_type": "stream",
     "text": [
      "INFO:tensorflow:Assets written to: /home/divij/Projects/2023-flame-ai-challenge/output/test_16/ckpt/ckpt-195/assets\n"
     ]
    },
    {
     "name": "stderr",
     "output_type": "stream",
     "text": [
      "INFO:tensorflow:Assets written to: /home/divij/Projects/2023-flame-ai-challenge/output/test_16/ckpt/ckpt-195/assets\n"
     ]
    },
    {
     "name": "stdout",
     "output_type": "stream",
     "text": [
      "44/44 [==============================] - 10s 219ms/step - loss: 0.0111 - mean_absolute_error: 0.0668 - val_loss: 0.0380 - val_mean_absolute_error: 0.0980 - lr: 0.0010\n",
      "Epoch 196/300\n",
      "44/44 [==============================] - 6s 131ms/step - loss: 0.0143 - mean_absolute_error: 0.0744 - val_loss: 0.0436 - val_mean_absolute_error: 0.1125 - lr: 0.0010\n",
      "Epoch 197/300\n",
      "44/44 [==============================] - 6s 132ms/step - loss: 0.0194 - mean_absolute_error: 0.0903 - val_loss: 0.0395 - val_mean_absolute_error: 0.1031 - lr: 0.0010\n",
      "Epoch 198/300\n",
      "44/44 [==============================] - 6s 131ms/step - loss: 0.0132 - mean_absolute_error: 0.0677 - val_loss: 0.0391 - val_mean_absolute_error: 0.1062 - lr: 0.0010\n",
      "Epoch 199/300\n",
      "44/44 [==============================] - 6s 133ms/step - loss: 0.0132 - mean_absolute_error: 0.0699 - val_loss: 0.0375 - val_mean_absolute_error: 0.0931 - lr: 0.0010\n",
      "Epoch 200/300\n",
      "43/44 [============================>.] - ETA: 0s - loss: 0.0106 - mean_absolute_error: 0.0620"
     ]
    },
    {
     "name": "stderr",
     "output_type": "stream",
     "text": [
      "WARNING:absl:Found untraced functions such as _jit_compiled_convolution_op, _jit_compiled_convolution_op, _jit_compiled_convolution_op, _jit_compiled_convolution_op, _jit_compiled_convolution_op while saving (showing 5 of 38). These functions will not be directly callable after loading.\n"
     ]
    },
    {
     "name": "stdout",
     "output_type": "stream",
     "text": [
      "INFO:tensorflow:Assets written to: /home/divij/Projects/2023-flame-ai-challenge/output/test_16/ckpt/ckpt-200/assets\n"
     ]
    },
    {
     "name": "stderr",
     "output_type": "stream",
     "text": [
      "INFO:tensorflow:Assets written to: /home/divij/Projects/2023-flame-ai-challenge/output/test_16/ckpt/ckpt-200/assets\n"
     ]
    },
    {
     "name": "stdout",
     "output_type": "stream",
     "text": [
      "44/44 [==============================] - 8s 193ms/step - loss: 0.0106 - mean_absolute_error: 0.0620 - val_loss: 0.0373 - val_mean_absolute_error: 0.0985 - lr: 0.0010\n",
      "Epoch 201/300\n",
      "44/44 [==============================] - 6s 131ms/step - loss: 0.0107 - mean_absolute_error: 0.0633 - val_loss: 0.0362 - val_mean_absolute_error: 0.0891 - lr: 0.0010\n",
      "Epoch 202/300\n",
      "44/44 [==============================] - 6s 135ms/step - loss: 0.0092 - mean_absolute_error: 0.0558 - val_loss: 0.0366 - val_mean_absolute_error: 0.0924 - lr: 0.0010\n",
      "Epoch 203/300\n",
      "44/44 [==============================] - 6s 131ms/step - loss: 0.0083 - mean_absolute_error: 0.0542 - val_loss: 0.0366 - val_mean_absolute_error: 0.0908 - lr: 0.0010\n",
      "Epoch 204/300\n",
      "44/44 [==============================] - 6s 137ms/step - loss: 0.0078 - mean_absolute_error: 0.0522 - val_loss: 0.0362 - val_mean_absolute_error: 0.0881 - lr: 0.0010\n",
      "Epoch 205/300\n",
      "43/44 [============================>.] - ETA: 0s - loss: 0.0080 - mean_absolute_error: 0.0525"
     ]
    },
    {
     "name": "stderr",
     "output_type": "stream",
     "text": [
      "WARNING:absl:Found untraced functions such as _jit_compiled_convolution_op, _jit_compiled_convolution_op, _jit_compiled_convolution_op, _jit_compiled_convolution_op, _jit_compiled_convolution_op while saving (showing 5 of 38). These functions will not be directly callable after loading.\n"
     ]
    },
    {
     "name": "stdout",
     "output_type": "stream",
     "text": [
      "INFO:tensorflow:Assets written to: /home/divij/Projects/2023-flame-ai-challenge/output/test_16/ckpt/ckpt-205/assets\n"
     ]
    },
    {
     "name": "stderr",
     "output_type": "stream",
     "text": [
      "INFO:tensorflow:Assets written to: /home/divij/Projects/2023-flame-ai-challenge/output/test_16/ckpt/ckpt-205/assets\n"
     ]
    },
    {
     "name": "stdout",
     "output_type": "stream",
     "text": [
      "44/44 [==============================] - 9s 196ms/step - loss: 0.0080 - mean_absolute_error: 0.0524 - val_loss: 0.0364 - val_mean_absolute_error: 0.0888 - lr: 0.0010\n",
      "Epoch 206/300\n",
      "44/44 [==============================] - 6s 132ms/step - loss: 0.0076 - mean_absolute_error: 0.0511 - val_loss: 0.0364 - val_mean_absolute_error: 0.0914 - lr: 0.0010\n",
      "Epoch 207/300\n",
      "44/44 [==============================] - 6s 131ms/step - loss: 0.0076 - mean_absolute_error: 0.0518 - val_loss: 0.0360 - val_mean_absolute_error: 0.0880 - lr: 0.0010\n",
      "Epoch 208/300\n",
      "44/44 [==============================] - 6s 136ms/step - loss: 0.0073 - mean_absolute_error: 0.0502 - val_loss: 0.0364 - val_mean_absolute_error: 0.0883 - lr: 0.0010\n",
      "Epoch 209/300\n",
      "44/44 [==============================] - 6s 130ms/step - loss: 0.0075 - mean_absolute_error: 0.0514 - val_loss: 0.0359 - val_mean_absolute_error: 0.0877 - lr: 0.0010\n",
      "Epoch 210/300\n",
      "43/44 [============================>.] - ETA: 0s - loss: 0.0070 - mean_absolute_error: 0.0499"
     ]
    },
    {
     "name": "stderr",
     "output_type": "stream",
     "text": [
      "WARNING:absl:Found untraced functions such as _jit_compiled_convolution_op, _jit_compiled_convolution_op, _jit_compiled_convolution_op, _jit_compiled_convolution_op, _jit_compiled_convolution_op while saving (showing 5 of 38). These functions will not be directly callable after loading.\n"
     ]
    },
    {
     "name": "stdout",
     "output_type": "stream",
     "text": [
      "INFO:tensorflow:Assets written to: /home/divij/Projects/2023-flame-ai-challenge/output/test_16/ckpt/ckpt-210/assets\n"
     ]
    },
    {
     "name": "stderr",
     "output_type": "stream",
     "text": [
      "INFO:tensorflow:Assets written to: /home/divij/Projects/2023-flame-ai-challenge/output/test_16/ckpt/ckpt-210/assets\n"
     ]
    },
    {
     "name": "stdout",
     "output_type": "stream",
     "text": [
      "44/44 [==============================] - 9s 196ms/step - loss: 0.0070 - mean_absolute_error: 0.0498 - val_loss: 0.0363 - val_mean_absolute_error: 0.0886 - lr: 0.0010\n",
      "Epoch 211/300\n",
      "44/44 [==============================] - 6s 131ms/step - loss: 0.0067 - mean_absolute_error: 0.0485 - val_loss: 0.0363 - val_mean_absolute_error: 0.0883 - lr: 0.0010\n",
      "Epoch 212/300\n",
      "44/44 [==============================] - 6s 130ms/step - loss: 0.0071 - mean_absolute_error: 0.0509 - val_loss: 0.0362 - val_mean_absolute_error: 0.0883 - lr: 0.0010\n",
      "Epoch 213/300\n",
      "44/44 [==============================] - 6s 133ms/step - loss: 0.0069 - mean_absolute_error: 0.0495 - val_loss: 0.0375 - val_mean_absolute_error: 0.0933 - lr: 0.0010\n",
      "Epoch 214/300\n",
      "44/44 [==============================] - 6s 132ms/step - loss: 0.0098 - mean_absolute_error: 0.0616 - val_loss: 0.0365 - val_mean_absolute_error: 0.0920 - lr: 0.0010\n",
      "Epoch 215/300\n",
      "43/44 [============================>.] - ETA: 0s - loss: 0.0086 - mean_absolute_error: 0.0558"
     ]
    },
    {
     "name": "stderr",
     "output_type": "stream",
     "text": [
      "WARNING:absl:Found untraced functions such as _jit_compiled_convolution_op, _jit_compiled_convolution_op, _jit_compiled_convolution_op, _jit_compiled_convolution_op, _jit_compiled_convolution_op while saving (showing 5 of 38). These functions will not be directly callable after loading.\n"
     ]
    },
    {
     "name": "stdout",
     "output_type": "stream",
     "text": [
      "INFO:tensorflow:Assets written to: /home/divij/Projects/2023-flame-ai-challenge/output/test_16/ckpt/ckpt-215/assets\n"
     ]
    },
    {
     "name": "stderr",
     "output_type": "stream",
     "text": [
      "INFO:tensorflow:Assets written to: /home/divij/Projects/2023-flame-ai-challenge/output/test_16/ckpt/ckpt-215/assets\n"
     ]
    },
    {
     "name": "stdout",
     "output_type": "stream",
     "text": [
      "44/44 [==============================] - 8s 194ms/step - loss: 0.0086 - mean_absolute_error: 0.0558 - val_loss: 0.0379 - val_mean_absolute_error: 0.0933 - lr: 0.0010\n",
      "Epoch 216/300\n",
      "44/44 [==============================] - 6s 133ms/step - loss: 0.0084 - mean_absolute_error: 0.0551 - val_loss: 0.0397 - val_mean_absolute_error: 0.1027 - lr: 0.0010\n",
      "Epoch 217/300\n",
      "44/44 [==============================] - 6s 131ms/step - loss: 0.0092 - mean_absolute_error: 0.0602 - val_loss: 0.0374 - val_mean_absolute_error: 0.0970 - lr: 0.0010\n",
      "Epoch 218/300\n",
      "44/44 [==============================] - 6s 132ms/step - loss: 0.0087 - mean_absolute_error: 0.0582 - val_loss: 0.0377 - val_mean_absolute_error: 0.0994 - lr: 0.0010\n",
      "Epoch 219/300\n",
      "44/44 [==============================] - 6s 133ms/step - loss: 0.0083 - mean_absolute_error: 0.0549 - val_loss: 0.0361 - val_mean_absolute_error: 0.0892 - lr: 0.0010\n",
      "Epoch 220/300\n",
      "43/44 [============================>.] - ETA: 0s - loss: 0.0076 - mean_absolute_error: 0.0520"
     ]
    },
    {
     "name": "stderr",
     "output_type": "stream",
     "text": [
      "WARNING:absl:Found untraced functions such as _jit_compiled_convolution_op, _jit_compiled_convolution_op, _jit_compiled_convolution_op, _jit_compiled_convolution_op, _jit_compiled_convolution_op while saving (showing 5 of 38). These functions will not be directly callable after loading.\n"
     ]
    },
    {
     "name": "stdout",
     "output_type": "stream",
     "text": [
      "INFO:tensorflow:Assets written to: /home/divij/Projects/2023-flame-ai-challenge/output/test_16/ckpt/ckpt-220/assets\n"
     ]
    },
    {
     "name": "stderr",
     "output_type": "stream",
     "text": [
      "INFO:tensorflow:Assets written to: /home/divij/Projects/2023-flame-ai-challenge/output/test_16/ckpt/ckpt-220/assets\n"
     ]
    },
    {
     "name": "stdout",
     "output_type": "stream",
     "text": [
      "44/44 [==============================] - 9s 215ms/step - loss: 0.0076 - mean_absolute_error: 0.0520 - val_loss: 0.0360 - val_mean_absolute_error: 0.0888 - lr: 0.0010\n",
      "Epoch 221/300\n",
      "44/44 [==============================] - 6s 133ms/step - loss: 0.0084 - mean_absolute_error: 0.0572 - val_loss: 0.0365 - val_mean_absolute_error: 0.0918 - lr: 0.0010\n",
      "Epoch 222/300\n",
      "44/44 [==============================] - 6s 133ms/step - loss: 0.0085 - mean_absolute_error: 0.0578 - val_loss: 0.0376 - val_mean_absolute_error: 0.0963 - lr: 0.0010\n",
      "Epoch 223/300\n",
      "44/44 [==============================] - 6s 134ms/step - loss: 0.0085 - mean_absolute_error: 0.0581 - val_loss: 0.0391 - val_mean_absolute_error: 0.0979 - lr: 0.0010\n",
      "Epoch 224/300\n",
      "44/44 [==============================] - 6s 129ms/step - loss: 0.0084 - mean_absolute_error: 0.0560 - val_loss: 0.0374 - val_mean_absolute_error: 0.0936 - lr: 0.0010\n",
      "Epoch 225/300\n",
      "43/44 [============================>.] - ETA: 0s - loss: 0.0080 - mean_absolute_error: 0.0550"
     ]
    },
    {
     "name": "stderr",
     "output_type": "stream",
     "text": [
      "WARNING:absl:Found untraced functions such as _jit_compiled_convolution_op, _jit_compiled_convolution_op, _jit_compiled_convolution_op, _jit_compiled_convolution_op, _jit_compiled_convolution_op while saving (showing 5 of 38). These functions will not be directly callable after loading.\n"
     ]
    },
    {
     "name": "stdout",
     "output_type": "stream",
     "text": [
      "INFO:tensorflow:Assets written to: /home/divij/Projects/2023-flame-ai-challenge/output/test_16/ckpt/ckpt-225/assets\n"
     ]
    },
    {
     "name": "stderr",
     "output_type": "stream",
     "text": [
      "INFO:tensorflow:Assets written to: /home/divij/Projects/2023-flame-ai-challenge/output/test_16/ckpt/ckpt-225/assets\n"
     ]
    },
    {
     "name": "stdout",
     "output_type": "stream",
     "text": [
      "44/44 [==============================] - 8s 194ms/step - loss: 0.0080 - mean_absolute_error: 0.0550 - val_loss: 0.0364 - val_mean_absolute_error: 0.0898 - lr: 0.0010\n",
      "Epoch 226/300\n",
      "44/44 [==============================] - 6s 135ms/step - loss: 0.0079 - mean_absolute_error: 0.0530 - val_loss: 0.0359 - val_mean_absolute_error: 0.0891 - lr: 0.0010\n",
      "Epoch 227/300\n",
      "44/44 [==============================] - 6s 132ms/step - loss: 0.0080 - mean_absolute_error: 0.0517 - val_loss: 0.0360 - val_mean_absolute_error: 0.0912 - lr: 0.0010\n",
      "Epoch 228/300\n",
      "44/44 [==============================] - 6s 134ms/step - loss: 0.0088 - mean_absolute_error: 0.0556 - val_loss: 0.0373 - val_mean_absolute_error: 0.0924 - lr: 0.0010\n",
      "Epoch 229/300\n",
      "44/44 [==============================] - 6s 136ms/step - loss: 0.0089 - mean_absolute_error: 0.0568 - val_loss: 0.0390 - val_mean_absolute_error: 0.0967 - lr: 0.0010\n",
      "Epoch 230/300\n",
      "43/44 [============================>.] - ETA: 0s - loss: 0.0084 - mean_absolute_error: 0.0556"
     ]
    },
    {
     "name": "stderr",
     "output_type": "stream",
     "text": [
      "WARNING:absl:Found untraced functions such as _jit_compiled_convolution_op, _jit_compiled_convolution_op, _jit_compiled_convolution_op, _jit_compiled_convolution_op, _jit_compiled_convolution_op while saving (showing 5 of 38). These functions will not be directly callable after loading.\n"
     ]
    },
    {
     "name": "stdout",
     "output_type": "stream",
     "text": [
      "INFO:tensorflow:Assets written to: /home/divij/Projects/2023-flame-ai-challenge/output/test_16/ckpt/ckpt-230/assets\n"
     ]
    },
    {
     "name": "stderr",
     "output_type": "stream",
     "text": [
      "INFO:tensorflow:Assets written to: /home/divij/Projects/2023-flame-ai-challenge/output/test_16/ckpt/ckpt-230/assets\n"
     ]
    },
    {
     "name": "stdout",
     "output_type": "stream",
     "text": [
      "44/44 [==============================] - 8s 194ms/step - loss: 0.0084 - mean_absolute_error: 0.0555 - val_loss: 0.0376 - val_mean_absolute_error: 0.0961 - lr: 0.0010\n",
      "Epoch 231/300\n",
      "44/44 [==============================] - 6s 132ms/step - loss: 0.0082 - mean_absolute_error: 0.0541 - val_loss: 0.0359 - val_mean_absolute_error: 0.0894 - lr: 0.0010\n",
      "Epoch 232/300\n",
      "44/44 [==============================] - 6s 129ms/step - loss: 0.0078 - mean_absolute_error: 0.0527 - val_loss: 0.0387 - val_mean_absolute_error: 0.0988 - lr: 0.0010\n",
      "Epoch 233/300\n",
      "44/44 [==============================] - 6s 134ms/step - loss: 0.0090 - mean_absolute_error: 0.0580 - val_loss: 0.0372 - val_mean_absolute_error: 0.0954 - lr: 0.0010\n",
      "Epoch 234/300\n",
      "44/44 [==============================] - 6s 134ms/step - loss: 0.0084 - mean_absolute_error: 0.0569 - val_loss: 0.0372 - val_mean_absolute_error: 0.0930 - lr: 0.0010\n",
      "Epoch 235/300\n",
      "43/44 [============================>.] - ETA: 0s - loss: 0.0084 - mean_absolute_error: 0.0569"
     ]
    },
    {
     "name": "stderr",
     "output_type": "stream",
     "text": [
      "WARNING:absl:Found untraced functions such as _jit_compiled_convolution_op, _jit_compiled_convolution_op, _jit_compiled_convolution_op, _jit_compiled_convolution_op, _jit_compiled_convolution_op while saving (showing 5 of 38). These functions will not be directly callable after loading.\n"
     ]
    },
    {
     "name": "stdout",
     "output_type": "stream",
     "text": [
      "INFO:tensorflow:Assets written to: /home/divij/Projects/2023-flame-ai-challenge/output/test_16/ckpt/ckpt-235/assets\n"
     ]
    },
    {
     "name": "stderr",
     "output_type": "stream",
     "text": [
      "INFO:tensorflow:Assets written to: /home/divij/Projects/2023-flame-ai-challenge/output/test_16/ckpt/ckpt-235/assets\n"
     ]
    },
    {
     "name": "stdout",
     "output_type": "stream",
     "text": [
      "44/44 [==============================] - 10s 218ms/step - loss: 0.0083 - mean_absolute_error: 0.0568 - val_loss: 0.0366 - val_mean_absolute_error: 0.0886 - lr: 0.0010\n",
      "Epoch 236/300\n",
      "44/44 [==============================] - 6s 135ms/step - loss: 0.0069 - mean_absolute_error: 0.0491 - val_loss: 0.0361 - val_mean_absolute_error: 0.0879 - lr: 0.0010\n",
      "Epoch 237/300\n",
      "44/44 [==============================] - 6s 131ms/step - loss: 0.0067 - mean_absolute_error: 0.0499 - val_loss: 0.0357 - val_mean_absolute_error: 0.0872 - lr: 0.0010\n",
      "Epoch 238/300\n",
      "44/44 [==============================] - 6s 133ms/step - loss: 0.0062 - mean_absolute_error: 0.0464 - val_loss: 0.0360 - val_mean_absolute_error: 0.0880 - lr: 0.0010\n",
      "Epoch 239/300\n",
      "44/44 [==============================] - 6s 133ms/step - loss: 0.0063 - mean_absolute_error: 0.0467 - val_loss: 0.0359 - val_mean_absolute_error: 0.0870 - lr: 0.0010\n",
      "Epoch 240/300\n",
      "43/44 [============================>.] - ETA: 0s - loss: 0.0067 - mean_absolute_error: 0.0483"
     ]
    },
    {
     "name": "stderr",
     "output_type": "stream",
     "text": [
      "WARNING:absl:Found untraced functions such as _jit_compiled_convolution_op, _jit_compiled_convolution_op, _jit_compiled_convolution_op, _jit_compiled_convolution_op, _jit_compiled_convolution_op while saving (showing 5 of 38). These functions will not be directly callable after loading.\n"
     ]
    },
    {
     "name": "stdout",
     "output_type": "stream",
     "text": [
      "INFO:tensorflow:Assets written to: /home/divij/Projects/2023-flame-ai-challenge/output/test_16/ckpt/ckpt-240/assets\n"
     ]
    },
    {
     "name": "stderr",
     "output_type": "stream",
     "text": [
      "INFO:tensorflow:Assets written to: /home/divij/Projects/2023-flame-ai-challenge/output/test_16/ckpt/ckpt-240/assets\n"
     ]
    },
    {
     "name": "stdout",
     "output_type": "stream",
     "text": [
      "44/44 [==============================] - 8s 194ms/step - loss: 0.0068 - mean_absolute_error: 0.0485 - val_loss: 0.0363 - val_mean_absolute_error: 0.0901 - lr: 0.0010\n",
      "Epoch 241/300\n",
      "44/44 [==============================] - 6s 134ms/step - loss: 0.0111 - mean_absolute_error: 0.0618 - val_loss: 0.0422 - val_mean_absolute_error: 0.1099 - lr: 0.0010\n",
      "Epoch 242/300\n",
      "44/44 [==============================] - 6s 133ms/step - loss: 0.0149 - mean_absolute_error: 0.0746 - val_loss: 0.0382 - val_mean_absolute_error: 0.0963 - lr: 0.0010\n",
      "Epoch 243/300\n",
      "44/44 [==============================] - 6s 134ms/step - loss: 0.0121 - mean_absolute_error: 0.0663 - val_loss: 0.0405 - val_mean_absolute_error: 0.1120 - lr: 0.0010\n",
      "Epoch 244/300\n",
      "44/44 [==============================] - 6s 132ms/step - loss: 0.0129 - mean_absolute_error: 0.0708 - val_loss: 0.0394 - val_mean_absolute_error: 0.1012 - lr: 0.0010\n",
      "Epoch 245/300\n",
      "43/44 [============================>.] - ETA: 0s - loss: 0.0107 - mean_absolute_error: 0.0636"
     ]
    },
    {
     "name": "stderr",
     "output_type": "stream",
     "text": [
      "WARNING:absl:Found untraced functions such as _jit_compiled_convolution_op, _jit_compiled_convolution_op, _jit_compiled_convolution_op, _jit_compiled_convolution_op, _jit_compiled_convolution_op while saving (showing 5 of 38). These functions will not be directly callable after loading.\n"
     ]
    },
    {
     "name": "stdout",
     "output_type": "stream",
     "text": [
      "INFO:tensorflow:Assets written to: /home/divij/Projects/2023-flame-ai-challenge/output/test_16/ckpt/ckpt-245/assets\n"
     ]
    },
    {
     "name": "stderr",
     "output_type": "stream",
     "text": [
      "INFO:tensorflow:Assets written to: /home/divij/Projects/2023-flame-ai-challenge/output/test_16/ckpt/ckpt-245/assets\n"
     ]
    },
    {
     "name": "stdout",
     "output_type": "stream",
     "text": [
      "44/44 [==============================] - 9s 214ms/step - loss: 0.0108 - mean_absolute_error: 0.0637 - val_loss: 0.0375 - val_mean_absolute_error: 0.0934 - lr: 0.0010\n",
      "Epoch 246/300\n",
      "44/44 [==============================] - 6s 132ms/step - loss: 0.0102 - mean_absolute_error: 0.0594 - val_loss: 0.0367 - val_mean_absolute_error: 0.0922 - lr: 0.0010\n",
      "Epoch 247/300\n",
      "44/44 [==============================] - 6s 133ms/step - loss: 0.0083 - mean_absolute_error: 0.0539 - val_loss: 0.0358 - val_mean_absolute_error: 0.0885 - lr: 0.0010\n",
      "Epoch 248/300\n",
      "44/44 [==============================] - 6s 131ms/step - loss: 0.0075 - mean_absolute_error: 0.0531 - val_loss: 0.0358 - val_mean_absolute_error: 0.0900 - lr: 0.0010\n",
      "Epoch 249/300\n",
      "44/44 [==============================] - 6s 131ms/step - loss: 0.0073 - mean_absolute_error: 0.0508 - val_loss: 0.0356 - val_mean_absolute_error: 0.0868 - lr: 0.0010\n",
      "Epoch 250/300\n",
      "43/44 [============================>.] - ETA: 0s - loss: 0.0069 - mean_absolute_error: 0.0488"
     ]
    },
    {
     "name": "stderr",
     "output_type": "stream",
     "text": [
      "WARNING:absl:Found untraced functions such as _jit_compiled_convolution_op, _jit_compiled_convolution_op, _jit_compiled_convolution_op, _jit_compiled_convolution_op, _jit_compiled_convolution_op while saving (showing 5 of 38). These functions will not be directly callable after loading.\n"
     ]
    },
    {
     "name": "stdout",
     "output_type": "stream",
     "text": [
      "INFO:tensorflow:Assets written to: /home/divij/Projects/2023-flame-ai-challenge/output/test_16/ckpt/ckpt-250/assets\n"
     ]
    },
    {
     "name": "stderr",
     "output_type": "stream",
     "text": [
      "INFO:tensorflow:Assets written to: /home/divij/Projects/2023-flame-ai-challenge/output/test_16/ckpt/ckpt-250/assets\n"
     ]
    },
    {
     "name": "stdout",
     "output_type": "stream",
     "text": [
      "44/44 [==============================] - 9s 195ms/step - loss: 0.0069 - mean_absolute_error: 0.0487 - val_loss: 0.0354 - val_mean_absolute_error: 0.0863 - lr: 0.0010\n",
      "Epoch 251/300\n",
      "44/44 [==============================] - 6s 132ms/step - loss: 0.0071 - mean_absolute_error: 0.0489 - val_loss: 0.0361 - val_mean_absolute_error: 0.0883 - lr: 0.0010\n",
      "Epoch 252/300\n",
      "44/44 [==============================] - 6s 136ms/step - loss: 0.0078 - mean_absolute_error: 0.0518 - val_loss: 0.0356 - val_mean_absolute_error: 0.0868 - lr: 0.0010\n",
      "Epoch 253/300\n",
      "44/44 [==============================] - 6s 136ms/step - loss: 0.0069 - mean_absolute_error: 0.0485 - val_loss: 0.0353 - val_mean_absolute_error: 0.0871 - lr: 0.0010\n",
      "Epoch 254/300\n",
      "44/44 [==============================] - 6s 131ms/step - loss: 0.0072 - mean_absolute_error: 0.0506 - val_loss: 0.0370 - val_mean_absolute_error: 0.0895 - lr: 0.0010\n",
      "Epoch 255/300\n",
      "43/44 [============================>.] - ETA: 0s - loss: 0.0071 - mean_absolute_error: 0.0499"
     ]
    },
    {
     "name": "stderr",
     "output_type": "stream",
     "text": [
      "WARNING:absl:Found untraced functions such as _jit_compiled_convolution_op, _jit_compiled_convolution_op, _jit_compiled_convolution_op, _jit_compiled_convolution_op, _jit_compiled_convolution_op while saving (showing 5 of 38). These functions will not be directly callable after loading.\n"
     ]
    },
    {
     "name": "stdout",
     "output_type": "stream",
     "text": [
      "INFO:tensorflow:Assets written to: /home/divij/Projects/2023-flame-ai-challenge/output/test_16/ckpt/ckpt-255/assets\n"
     ]
    },
    {
     "name": "stderr",
     "output_type": "stream",
     "text": [
      "INFO:tensorflow:Assets written to: /home/divij/Projects/2023-flame-ai-challenge/output/test_16/ckpt/ckpt-255/assets\n"
     ]
    },
    {
     "name": "stdout",
     "output_type": "stream",
     "text": [
      "44/44 [==============================] - 8s 194ms/step - loss: 0.0071 - mean_absolute_error: 0.0499 - val_loss: 0.0357 - val_mean_absolute_error: 0.0891 - lr: 0.0010\n",
      "Epoch 256/300\n",
      "44/44 [==============================] - 6s 132ms/step - loss: 0.0082 - mean_absolute_error: 0.0552 - val_loss: 0.0350 - val_mean_absolute_error: 0.0880 - lr: 0.0010\n",
      "Epoch 257/300\n",
      "44/44 [==============================] - 6s 133ms/step - loss: 0.0071 - mean_absolute_error: 0.0509 - val_loss: 0.0363 - val_mean_absolute_error: 0.0899 - lr: 0.0010\n",
      "Epoch 258/300\n",
      "44/44 [==============================] - 6s 132ms/step - loss: 0.0072 - mean_absolute_error: 0.0525 - val_loss: 0.0358 - val_mean_absolute_error: 0.0916 - lr: 0.0010\n",
      "Epoch 259/300\n",
      "44/44 [==============================] - 6s 128ms/step - loss: 0.0082 - mean_absolute_error: 0.0584 - val_loss: 0.0399 - val_mean_absolute_error: 0.0998 - lr: 0.0010\n",
      "Epoch 260/300\n",
      "43/44 [============================>.] - ETA: 0s - loss: 0.0079 - mean_absolute_error: 0.0553"
     ]
    },
    {
     "name": "stderr",
     "output_type": "stream",
     "text": [
      "WARNING:absl:Found untraced functions such as _jit_compiled_convolution_op, _jit_compiled_convolution_op, _jit_compiled_convolution_op, _jit_compiled_convolution_op, _jit_compiled_convolution_op while saving (showing 5 of 38). These functions will not be directly callable after loading.\n"
     ]
    },
    {
     "name": "stdout",
     "output_type": "stream",
     "text": [
      "INFO:tensorflow:Assets written to: /home/divij/Projects/2023-flame-ai-challenge/output/test_16/ckpt/ckpt-260/assets\n"
     ]
    },
    {
     "name": "stderr",
     "output_type": "stream",
     "text": [
      "INFO:tensorflow:Assets written to: /home/divij/Projects/2023-flame-ai-challenge/output/test_16/ckpt/ckpt-260/assets\n"
     ]
    },
    {
     "name": "stdout",
     "output_type": "stream",
     "text": [
      "44/44 [==============================] - 9s 214ms/step - loss: 0.0079 - mean_absolute_error: 0.0554 - val_loss: 0.0358 - val_mean_absolute_error: 0.0887 - lr: 0.0010\n",
      "Epoch 261/300\n",
      "44/44 [==============================] - 6s 132ms/step - loss: 0.0074 - mean_absolute_error: 0.0513 - val_loss: 0.0364 - val_mean_absolute_error: 0.0899 - lr: 0.0010\n",
      "Epoch 262/300\n",
      "44/44 [==============================] - 6s 132ms/step - loss: 0.0081 - mean_absolute_error: 0.0529 - val_loss: 0.0378 - val_mean_absolute_error: 0.0939 - lr: 0.0010\n",
      "Epoch 263/300\n",
      "44/44 [==============================] - 6s 131ms/step - loss: 0.0100 - mean_absolute_error: 0.0611 - val_loss: 0.0376 - val_mean_absolute_error: 0.0934 - lr: 0.0010\n",
      "Epoch 264/300\n",
      "44/44 [==============================] - 6s 131ms/step - loss: 0.0112 - mean_absolute_error: 0.0631 - val_loss: 0.0370 - val_mean_absolute_error: 0.0952 - lr: 0.0010\n",
      "Epoch 265/300\n",
      "43/44 [============================>.] - ETA: 0s - loss: 0.0085 - mean_absolute_error: 0.0550"
     ]
    },
    {
     "name": "stderr",
     "output_type": "stream",
     "text": [
      "WARNING:absl:Found untraced functions such as _jit_compiled_convolution_op, _jit_compiled_convolution_op, _jit_compiled_convolution_op, _jit_compiled_convolution_op, _jit_compiled_convolution_op while saving (showing 5 of 38). These functions will not be directly callable after loading.\n"
     ]
    },
    {
     "name": "stdout",
     "output_type": "stream",
     "text": [
      "INFO:tensorflow:Assets written to: /home/divij/Projects/2023-flame-ai-challenge/output/test_16/ckpt/ckpt-265/assets\n"
     ]
    },
    {
     "name": "stderr",
     "output_type": "stream",
     "text": [
      "INFO:tensorflow:Assets written to: /home/divij/Projects/2023-flame-ai-challenge/output/test_16/ckpt/ckpt-265/assets\n"
     ]
    },
    {
     "name": "stdout",
     "output_type": "stream",
     "text": [
      "44/44 [==============================] - 8s 193ms/step - loss: 0.0085 - mean_absolute_error: 0.0550 - val_loss: 0.0367 - val_mean_absolute_error: 0.0916 - lr: 0.0010\n",
      "Epoch 266/300\n",
      "44/44 [==============================] - 6s 134ms/step - loss: 0.0078 - mean_absolute_error: 0.0523 - val_loss: 0.0359 - val_mean_absolute_error: 0.0880 - lr: 0.0010\n",
      "Epoch 267/300\n",
      "44/44 [==============================] - 6s 130ms/step - loss: 0.0069 - mean_absolute_error: 0.0489 - val_loss: 0.0352 - val_mean_absolute_error: 0.0880 - lr: 0.0010\n",
      "Epoch 268/300\n",
      "44/44 [==============================] - 6s 133ms/step - loss: 0.0061 - mean_absolute_error: 0.0464 - val_loss: 0.0351 - val_mean_absolute_error: 0.0874 - lr: 0.0010\n",
      "Epoch 269/300\n",
      "44/44 [==============================] - 6s 132ms/step - loss: 0.0060 - mean_absolute_error: 0.0460 - val_loss: 0.0349 - val_mean_absolute_error: 0.0862 - lr: 0.0010\n",
      "Epoch 270/300\n",
      "43/44 [============================>.] - ETA: 0s - loss: 0.0058 - mean_absolute_error: 0.0449"
     ]
    },
    {
     "name": "stderr",
     "output_type": "stream",
     "text": [
      "WARNING:absl:Found untraced functions such as _jit_compiled_convolution_op, _jit_compiled_convolution_op, _jit_compiled_convolution_op, _jit_compiled_convolution_op, _jit_compiled_convolution_op while saving (showing 5 of 38). These functions will not be directly callable after loading.\n"
     ]
    },
    {
     "name": "stdout",
     "output_type": "stream",
     "text": [
      "INFO:tensorflow:Assets written to: /home/divij/Projects/2023-flame-ai-challenge/output/test_16/ckpt/ckpt-270/assets\n"
     ]
    },
    {
     "name": "stderr",
     "output_type": "stream",
     "text": [
      "INFO:tensorflow:Assets written to: /home/divij/Projects/2023-flame-ai-challenge/output/test_16/ckpt/ckpt-270/assets\n"
     ]
    },
    {
     "name": "stdout",
     "output_type": "stream",
     "text": [
      "44/44 [==============================] - 9s 213ms/step - loss: 0.0058 - mean_absolute_error: 0.0449 - val_loss: 0.0350 - val_mean_absolute_error: 0.0861 - lr: 0.0010\n",
      "Epoch 271/300\n",
      "44/44 [==============================] - 6s 131ms/step - loss: 0.0056 - mean_absolute_error: 0.0447 - val_loss: 0.0402 - val_mean_absolute_error: 0.1142 - lr: 0.0010\n",
      "Epoch 272/300\n",
      "44/44 [==============================] - 6s 132ms/step - loss: 0.0081 - mean_absolute_error: 0.0577 - val_loss: 0.0361 - val_mean_absolute_error: 0.0896 - lr: 0.0010\n",
      "Epoch 273/300\n",
      "44/44 [==============================] - 6s 131ms/step - loss: 0.0065 - mean_absolute_error: 0.0481 - val_loss: 0.0352 - val_mean_absolute_error: 0.0863 - lr: 0.0010\n",
      "Epoch 274/300\n",
      "44/44 [==============================] - 6s 132ms/step - loss: 0.0063 - mean_absolute_error: 0.0467 - val_loss: 0.0356 - val_mean_absolute_error: 0.0899 - lr: 0.0010\n",
      "Epoch 275/300\n",
      "43/44 [============================>.] - ETA: 0s - loss: 0.0061 - mean_absolute_error: 0.0466"
     ]
    },
    {
     "name": "stderr",
     "output_type": "stream",
     "text": [
      "WARNING:absl:Found untraced functions such as _jit_compiled_convolution_op, _jit_compiled_convolution_op, _jit_compiled_convolution_op, _jit_compiled_convolution_op, _jit_compiled_convolution_op while saving (showing 5 of 38). These functions will not be directly callable after loading.\n"
     ]
    },
    {
     "name": "stdout",
     "output_type": "stream",
     "text": [
      "INFO:tensorflow:Assets written to: /home/divij/Projects/2023-flame-ai-challenge/output/test_16/ckpt/ckpt-275/assets\n"
     ]
    },
    {
     "name": "stderr",
     "output_type": "stream",
     "text": [
      "INFO:tensorflow:Assets written to: /home/divij/Projects/2023-flame-ai-challenge/output/test_16/ckpt/ckpt-275/assets\n"
     ]
    },
    {
     "name": "stdout",
     "output_type": "stream",
     "text": [
      "44/44 [==============================] - 9s 195ms/step - loss: 0.0062 - mean_absolute_error: 0.0467 - val_loss: 0.0361 - val_mean_absolute_error: 0.0892 - lr: 0.0010\n",
      "Epoch 276/300\n",
      "44/44 [==============================] - 6s 133ms/step - loss: 0.0067 - mean_absolute_error: 0.0487 - val_loss: 0.0355 - val_mean_absolute_error: 0.0876 - lr: 0.0010\n",
      "Epoch 277/300\n",
      "44/44 [==============================] - 6s 134ms/step - loss: 0.0066 - mean_absolute_error: 0.0482 - val_loss: 0.0369 - val_mean_absolute_error: 0.0915 - lr: 0.0010\n",
      "Epoch 278/300\n",
      "44/44 [==============================] - 6s 132ms/step - loss: 0.0091 - mean_absolute_error: 0.0568 - val_loss: 0.0369 - val_mean_absolute_error: 0.0967 - lr: 0.0010\n",
      "Epoch 279/300\n",
      "44/44 [==============================] - 6s 132ms/step - loss: 0.0089 - mean_absolute_error: 0.0574 - val_loss: 0.0370 - val_mean_absolute_error: 0.0948 - lr: 0.0010\n",
      "Epoch 280/300\n",
      "43/44 [============================>.] - ETA: 0s - loss: 0.0092 - mean_absolute_error: 0.0590"
     ]
    },
    {
     "name": "stderr",
     "output_type": "stream",
     "text": [
      "WARNING:absl:Found untraced functions such as _jit_compiled_convolution_op, _jit_compiled_convolution_op, _jit_compiled_convolution_op, _jit_compiled_convolution_op, _jit_compiled_convolution_op while saving (showing 5 of 38). These functions will not be directly callable after loading.\n"
     ]
    },
    {
     "name": "stdout",
     "output_type": "stream",
     "text": [
      "INFO:tensorflow:Assets written to: /home/divij/Projects/2023-flame-ai-challenge/output/test_16/ckpt/ckpt-280/assets\n"
     ]
    },
    {
     "name": "stderr",
     "output_type": "stream",
     "text": [
      "INFO:tensorflow:Assets written to: /home/divij/Projects/2023-flame-ai-challenge/output/test_16/ckpt/ckpt-280/assets\n"
     ]
    },
    {
     "name": "stdout",
     "output_type": "stream",
     "text": [
      "44/44 [==============================] - 8s 193ms/step - loss: 0.0091 - mean_absolute_error: 0.0589 - val_loss: 0.0360 - val_mean_absolute_error: 0.0901 - lr: 0.0010\n",
      "Epoch 281/300\n",
      "44/44 [==============================] - 6s 133ms/step - loss: 0.0081 - mean_absolute_error: 0.0556 - val_loss: 0.0354 - val_mean_absolute_error: 0.0874 - lr: 0.0010\n",
      "Epoch 282/300\n",
      "44/44 [==============================] - 6s 129ms/step - loss: 0.0078 - mean_absolute_error: 0.0525 - val_loss: 0.0360 - val_mean_absolute_error: 0.0901 - lr: 0.0010\n",
      "Epoch 283/300\n",
      "44/44 [==============================] - 6s 128ms/step - loss: 0.0073 - mean_absolute_error: 0.0509 - val_loss: 0.0350 - val_mean_absolute_error: 0.0866 - lr: 0.0010\n",
      "Epoch 284/300\n",
      "44/44 [==============================] - 6s 131ms/step - loss: 0.0067 - mean_absolute_error: 0.0482 - val_loss: 0.0358 - val_mean_absolute_error: 0.0878 - lr: 0.0010\n",
      "Epoch 285/300\n",
      "43/44 [============================>.] - ETA: 0s - loss: 0.0063 - mean_absolute_error: 0.0469"
     ]
    },
    {
     "name": "stderr",
     "output_type": "stream",
     "text": [
      "WARNING:absl:Found untraced functions such as _jit_compiled_convolution_op, _jit_compiled_convolution_op, _jit_compiled_convolution_op, _jit_compiled_convolution_op, _jit_compiled_convolution_op while saving (showing 5 of 38). These functions will not be directly callable after loading.\n"
     ]
    },
    {
     "name": "stdout",
     "output_type": "stream",
     "text": [
      "INFO:tensorflow:Assets written to: /home/divij/Projects/2023-flame-ai-challenge/output/test_16/ckpt/ckpt-285/assets\n"
     ]
    },
    {
     "name": "stderr",
     "output_type": "stream",
     "text": [
      "INFO:tensorflow:Assets written to: /home/divij/Projects/2023-flame-ai-challenge/output/test_16/ckpt/ckpt-285/assets\n"
     ]
    },
    {
     "name": "stdout",
     "output_type": "stream",
     "text": [
      "44/44 [==============================] - 10s 225ms/step - loss: 0.0063 - mean_absolute_error: 0.0469 - val_loss: 0.0348 - val_mean_absolute_error: 0.0859 - lr: 0.0010\n",
      "Epoch 286/300\n",
      "44/44 [==============================] - 6s 133ms/step - loss: 0.0062 - mean_absolute_error: 0.0468 - val_loss: 0.0352 - val_mean_absolute_error: 0.0895 - lr: 0.0010\n",
      "Epoch 287/300\n",
      "44/44 [==============================] - 6s 129ms/step - loss: 0.0065 - mean_absolute_error: 0.0496 - val_loss: 0.0353 - val_mean_absolute_error: 0.0867 - lr: 0.0010\n",
      "Epoch 288/300\n",
      "44/44 [==============================] - 6s 131ms/step - loss: 0.0057 - mean_absolute_error: 0.0450 - val_loss: 0.0348 - val_mean_absolute_error: 0.0856 - lr: 0.0010\n",
      "Epoch 289/300\n",
      "44/44 [==============================] - 6s 131ms/step - loss: 0.0059 - mean_absolute_error: 0.0468 - val_loss: 0.0354 - val_mean_absolute_error: 0.0889 - lr: 0.0010\n",
      "Epoch 290/300\n",
      "43/44 [============================>.] - ETA: 0s - loss: 0.0068 - mean_absolute_error: 0.0494"
     ]
    },
    {
     "name": "stderr",
     "output_type": "stream",
     "text": [
      "WARNING:absl:Found untraced functions such as _jit_compiled_convolution_op, _jit_compiled_convolution_op, _jit_compiled_convolution_op, _jit_compiled_convolution_op, _jit_compiled_convolution_op while saving (showing 5 of 38). These functions will not be directly callable after loading.\n"
     ]
    },
    {
     "name": "stdout",
     "output_type": "stream",
     "text": [
      "INFO:tensorflow:Assets written to: /home/divij/Projects/2023-flame-ai-challenge/output/test_16/ckpt/ckpt-290/assets\n"
     ]
    },
    {
     "name": "stderr",
     "output_type": "stream",
     "text": [
      "INFO:tensorflow:Assets written to: /home/divij/Projects/2023-flame-ai-challenge/output/test_16/ckpt/ckpt-290/assets\n"
     ]
    },
    {
     "name": "stdout",
     "output_type": "stream",
     "text": [
      "44/44 [==============================] - 9s 198ms/step - loss: 0.0068 - mean_absolute_error: 0.0493 - val_loss: 0.0361 - val_mean_absolute_error: 0.0879 - lr: 0.0010\n",
      "Epoch 291/300\n",
      "44/44 [==============================] - 6s 131ms/step - loss: 0.0065 - mean_absolute_error: 0.0478 - val_loss: 0.0355 - val_mean_absolute_error: 0.0866 - lr: 0.0010\n",
      "Epoch 292/300\n",
      "44/44 [==============================] - 6s 130ms/step - loss: 0.0062 - mean_absolute_error: 0.0464 - val_loss: 0.0357 - val_mean_absolute_error: 0.0878 - lr: 0.0010\n",
      "Epoch 293/300\n",
      "44/44 [==============================] - 6s 132ms/step - loss: 0.0078 - mean_absolute_error: 0.0526 - val_loss: 0.0385 - val_mean_absolute_error: 0.0981 - lr: 0.0010\n",
      "Epoch 294/300\n",
      "44/44 [==============================] - 6s 130ms/step - loss: 0.0092 - mean_absolute_error: 0.0593 - val_loss: 0.0372 - val_mean_absolute_error: 0.0923 - lr: 0.0010\n",
      "Epoch 295/300\n",
      "43/44 [============================>.] - ETA: 0s - loss: 0.0093 - mean_absolute_error: 0.0589"
     ]
    },
    {
     "name": "stderr",
     "output_type": "stream",
     "text": [
      "WARNING:absl:Found untraced functions such as _jit_compiled_convolution_op, _jit_compiled_convolution_op, _jit_compiled_convolution_op, _jit_compiled_convolution_op, _jit_compiled_convolution_op while saving (showing 5 of 38). These functions will not be directly callable after loading.\n"
     ]
    },
    {
     "name": "stdout",
     "output_type": "stream",
     "text": [
      "INFO:tensorflow:Assets written to: /home/divij/Projects/2023-flame-ai-challenge/output/test_16/ckpt/ckpt-295/assets\n"
     ]
    },
    {
     "name": "stderr",
     "output_type": "stream",
     "text": [
      "INFO:tensorflow:Assets written to: /home/divij/Projects/2023-flame-ai-challenge/output/test_16/ckpt/ckpt-295/assets\n"
     ]
    },
    {
     "name": "stdout",
     "output_type": "stream",
     "text": [
      "44/44 [==============================] - 8s 193ms/step - loss: 0.0093 - mean_absolute_error: 0.0590 - val_loss: 0.0365 - val_mean_absolute_error: 0.0910 - lr: 0.0010\n",
      "Epoch 296/300\n",
      "44/44 [==============================] - 6s 130ms/step - loss: 0.0091 - mean_absolute_error: 0.0577 - val_loss: 0.0363 - val_mean_absolute_error: 0.0940 - lr: 0.0010\n",
      "Epoch 297/300\n",
      "44/44 [==============================] - 6s 136ms/step - loss: 0.0110 - mean_absolute_error: 0.0643 - val_loss: 0.0378 - val_mean_absolute_error: 0.0981 - lr: 0.0010\n",
      "Epoch 298/300\n",
      "44/44 [==============================] - 6s 132ms/step - loss: 0.0108 - mean_absolute_error: 0.0653 - val_loss: 0.0365 - val_mean_absolute_error: 0.0968 - lr: 0.0010\n",
      "Epoch 299/300\n",
      "44/44 [==============================] - 6s 133ms/step - loss: 0.0086 - mean_absolute_error: 0.0564 - val_loss: 0.0351 - val_mean_absolute_error: 0.0893 - lr: 0.0010\n",
      "Epoch 300/300\n",
      "43/44 [============================>.] - ETA: 0s - loss: 0.0083 - mean_absolute_error: 0.0542"
     ]
    },
    {
     "name": "stderr",
     "output_type": "stream",
     "text": [
      "WARNING:absl:Found untraced functions such as _jit_compiled_convolution_op, _jit_compiled_convolution_op, _jit_compiled_convolution_op, _jit_compiled_convolution_op, _jit_compiled_convolution_op while saving (showing 5 of 38). These functions will not be directly callable after loading.\n"
     ]
    },
    {
     "name": "stdout",
     "output_type": "stream",
     "text": [
      "INFO:tensorflow:Assets written to: /home/divij/Projects/2023-flame-ai-challenge/output/test_16/ckpt/ckpt-300/assets\n"
     ]
    },
    {
     "name": "stderr",
     "output_type": "stream",
     "text": [
      "INFO:tensorflow:Assets written to: /home/divij/Projects/2023-flame-ai-challenge/output/test_16/ckpt/ckpt-300/assets\n"
     ]
    },
    {
     "name": "stdout",
     "output_type": "stream",
     "text": [
      "44/44 [==============================] - 9s 218ms/step - loss: 0.0083 - mean_absolute_error: 0.0542 - val_loss: 0.0353 - val_mean_absolute_error: 0.0896 - lr: 0.0010\n"
     ]
    },
    {
     "name": "stderr",
     "output_type": "stream",
     "text": [
      "WARNING:absl:Found untraced functions such as _jit_compiled_convolution_op, _jit_compiled_convolution_op, _jit_compiled_convolution_op, _jit_compiled_convolution_op, _jit_compiled_convolution_op while saving (showing 5 of 38). These functions will not be directly callable after loading.\n"
     ]
    },
    {
     "name": "stdout",
     "output_type": "stream",
     "text": [
      "INFO:tensorflow:Assets written to: /home/divij/Projects/2023-flame-ai-challenge/output/test_16/final_model/assets\n"
     ]
    },
    {
     "name": "stderr",
     "output_type": "stream",
     "text": [
      "INFO:tensorflow:Assets written to: /home/divij/Projects/2023-flame-ai-challenge/output/test_16/final_model/assets\n"
     ]
    },
    {
     "data": {
      "text/plain": [
       "<matplotlib.legend.Legend at 0x7f26584f21c0>"
      ]
     },
     "execution_count": 42,
     "metadata": {},
     "output_type": "execute_result"
    },
    {
     "data": {
      "image/png": "[encoded data removed]",
      "text/plain": [
       "<Figure size 640x480 with 1 Axes>"
      ]
     },
     "metadata": {},
     "output_type": "display_data"
    }
   ],
   "source": [
    "run_training(epochs=300)\n",
    "metrics = pd.read_csv(output_path+'logs/model_history_log.csv')\n",
    "metrics\n",
    "plt.plot(metrics['loss'],label='train')\n",
    "plt.plot(metrics['val_loss'],label='val')\n",
    "plt.ylim([0,0.487163])\n",
    "plt.ylabel(\"MSE Loss\")\n",
    "plt.xlabel(\"Epochs\")\n",
    "plt.legend()"
   ]
  },
  {
   "cell_type": "code",
   "execution_count": 18,
   "metadata": {},
   "outputs": [],
   "source": [
    "#gets test set input\n",
    "def getTestX(idx):\n",
    "    csv_file = test_df.reset_index().to_dict(orient='list')\n",
    "    LR_path = input_path+\"flowfields/LR/test\" \n",
    "    id = csv_file['id'][idx]\n",
    "\n",
    "    rho_i = np.fromfile(LR_path + \"/\" + csv_file['rho_filename'][idx], dtype=\"<f4\").reshape(16,16)\n",
    "    ux_i = np.fromfile(LR_path + \"/\" + csv_file['ux_filename'][idx], dtype=\"<f4\").reshape(16,16)\n",
    "    uy_i = np.fromfile(LR_path + \"/\" + csv_file['uy_filename'][idx], dtype=\"<f4\").reshape(16,16)\n",
    "    uz_i = np.fromfile(LR_path + \"/\" + csv_file['uz_filename'][idx], dtype=\"<f4\").reshape(16,16)\n",
    "    \n",
    "    X = tf.stack([rho_i,ux_i,uy_i,uz_i],axis=2)\n",
    "    return id,X\n",
    "\n",
    "#predicts with input\n",
    "def predict(idx,model):\n",
    "    id,X = getTestX(idx)\n",
    "    X = tf.expand_dims(X,0)\n",
    "    # scale X \n",
    "    X = (X-X_mean)/X_std\n",
    "    y_pred = model.predict(X)\n",
    "    #added this to rescale predictions CHANGE THIS IF YOU USED DIFFERENT SCALING\n",
    "    y_pred_unscaled = (y_pred*Y_std)+Y_mean\n",
    "    return id,y_pred_unscaled\n",
    "\n",
    "#generates submission with model predictions already in SI units\n",
    "def generate_submission(model):\n",
    "    my_mean = [0.24,28.0, 28.0, 28.0]\n",
    "    my_std = [0.068,48.0, 48.0, 48.0]\n",
    "    my_mean = np.array(my_mean)\n",
    "    my_std = np.array(my_std)\n",
    "    y_preds = {}\n",
    "    ids = []\n",
    "    for idx in range(len(test_df)):\n",
    "        id,y_pred = predict(idx,model) \n",
    "        #WARNING tmp should be in SI units\n",
    "        tmp = (np.array(y_pred) - my_mean)/my_std #this normalizes density and velocity to be in the same range\n",
    "        y_preds[id]= np.array(tmp).flatten(order='C').astype(np.float32)\n",
    "        ids.append(id)\n",
    "    df = pd.DataFrame.from_dict(y_preds,orient='index')\n",
    "    df['id'] = ids\n",
    "    #move id to first column\n",
    "    cols = df.columns.tolist()\n",
    "    cols = cols[-1:] + cols[:-1]\n",
    "    df = df[cols]\n",
    "    #reset index\n",
    "    df = df.reset_index(drop=True)\n",
    "\n",
    "    return df"
   ]
  },
  {
   "cell_type": "code",
   "execution_count": 19,
   "metadata": {},
   "outputs": [
    {
     "name": "stdout",
     "output_type": "stream",
     "text": [
      "Restoring from /home/divij/Projects/2023-flame-ai-challenge/output/test_15/ckpt/ckpt-325\n",
      "1/1 [==============================] - 0s 205ms/step\n",
      "1/1 [==============================] - 0s 20ms/step\n",
      "1/1 [==============================] - 0s 20ms/step\n",
      "1/1 [==============================] - 0s 20ms/step\n",
      "1/1 [==============================] - 0s 20ms/step\n",
      "1/1 [==============================] - 0s 20ms/step\n",
      "1/1 [==============================] - 0s 19ms/step\n",
      "1/1 [==============================] - 0s 20ms/step\n",
      "1/1 [==============================] - 0s 20ms/step\n",
      "1/1 [==============================] - 0s 19ms/step\n",
      "1/1 [==============================] - 0s 19ms/step\n",
      "1/1 [==============================] - 0s 22ms/step\n",
      "1/1 [==============================] - 0s 24ms/step\n",
      "1/1 [==============================] - 0s 19ms/step\n",
      "1/1 [==============================] - 0s 19ms/step\n",
      "1/1 [==============================] - 0s 19ms/step\n",
      "1/1 [==============================] - 0s 20ms/step\n",
      "1/1 [==============================] - 0s 20ms/step\n",
      "1/1 [==============================] - 0s 21ms/step\n",
      "1/1 [==============================] - 0s 19ms/step\n",
      "1/1 [==============================] - 0s 19ms/step\n",
      "1/1 [==============================] - 0s 19ms/step\n",
      "1/1 [==============================] - 0s 19ms/step\n",
      "1/1 [==============================] - 0s 19ms/step\n",
      "1/1 [==============================] - 0s 19ms/step\n",
      "1/1 [==============================] - 0s 21ms/step\n",
      "1/1 [==============================] - 0s 19ms/step\n",
      "1/1 [==============================] - 0s 19ms/step\n",
      "1/1 [==============================] - 0s 19ms/step\n",
      "1/1 [==============================] - 0s 19ms/step\n",
      "1/1 [==============================] - 0s 19ms/step\n",
      "1/1 [==============================] - 0s 19ms/step\n",
      "1/1 [==============================] - 0s 22ms/step\n",
      "1/1 [==============================] - 0s 18ms/step\n",
      "1/1 [==============================] - 0s 19ms/step\n",
      "1/1 [==============================] - 0s 19ms/step\n",
      "1/1 [==============================] - 0s 19ms/step\n",
      "1/1 [==============================] - 0s 19ms/step\n",
      "1/1 [==============================] - 0s 19ms/step\n",
      "1/1 [==============================] - 0s 19ms/step\n",
      "1/1 [==============================] - 0s 18ms/step\n",
      "1/1 [==============================] - 0s 18ms/step\n",
      "1/1 [==============================] - 0s 19ms/step\n",
      "1/1 [==============================] - 0s 20ms/step\n",
      "1/1 [==============================] - 0s 19ms/step\n",
      "1/1 [==============================] - 0s 19ms/step\n",
      "1/1 [==============================] - 0s 19ms/step\n",
      "1/1 [==============================] - 0s 19ms/step\n",
      "1/1 [==============================] - 0s 19ms/step\n",
      "1/1 [==============================] - 0s 19ms/step\n",
      "1/1 [==============================] - 0s 19ms/step\n",
      "1/1 [==============================] - 0s 18ms/step\n",
      "1/1 [==============================] - 0s 20ms/step\n",
      "1/1 [==============================] - 0s 19ms/step\n",
      "1/1 [==============================] - 0s 19ms/step\n",
      "1/1 [==============================] - 0s 19ms/step\n",
      "1/1 [==============================] - 0s 25ms/step\n",
      "1/1 [==============================] - 0s 19ms/step\n",
      "1/1 [==============================] - 0s 18ms/step\n",
      "1/1 [==============================] - 0s 19ms/step\n",
      "1/1 [==============================] - 0s 19ms/step\n",
      "1/1 [==============================] - 0s 19ms/step\n",
      "1/1 [==============================] - 0s 19ms/step\n",
      "1/1 [==============================] - 0s 19ms/step\n",
      "1/1 [==============================] - 0s 19ms/step\n",
      "1/1 [==============================] - 0s 18ms/step\n",
      "1/1 [==============================] - 0s 18ms/step\n",
      "1/1 [==============================] - 0s 19ms/step\n",
      "1/1 [==============================] - 0s 19ms/step\n",
      "1/1 [==============================] - 0s 19ms/step\n",
      "1/1 [==============================] - 0s 20ms/step\n",
      "1/1 [==============================] - 0s 20ms/step\n",
      "1/1 [==============================] - 0s 19ms/step\n",
      "1/1 [==============================] - 0s 19ms/step\n",
      "1/1 [==============================] - 0s 18ms/step\n",
      "1/1 [==============================] - 0s 19ms/step\n",
      "1/1 [==============================] - 0s 19ms/step\n",
      "1/1 [==============================] - 0s 19ms/step\n",
      "1/1 [==============================] - 0s 19ms/step\n",
      "1/1 [==============================] - 0s 20ms/step\n",
      "1/1 [==============================] - 0s 21ms/step\n",
      "1/1 [==============================] - 0s 20ms/step\n",
      "1/1 [==============================] - 0s 19ms/step\n",
      "1/1 [==============================] - 0s 22ms/step\n",
      "1/1 [==============================] - 0s 23ms/step\n",
      "1/1 [==============================] - 0s 19ms/step\n",
      "1/1 [==============================] - 0s 18ms/step\n",
      "1/1 [==============================] - 0s 19ms/step\n",
      "1/1 [==============================] - 0s 19ms/step\n",
      "1/1 [==============================] - 0s 19ms/step\n",
      "1/1 [==============================] - 0s 19ms/step\n",
      "1/1 [==============================] - 0s 19ms/step\n",
      "1/1 [==============================] - 0s 19ms/step\n",
      "1/1 [==============================] - 0s 19ms/step\n",
      "1/1 [==============================] - 0s 18ms/step\n",
      "1/1 [==============================] - 0s 19ms/step\n",
      "1/1 [==============================] - 0s 19ms/step\n",
      "1/1 [==============================] - 0s 19ms/step\n",
      "1/1 [==============================] - 0s 19ms/step\n",
      "1/1 [==============================] - 0s 19ms/step\n",
      "1/1 [==============================] - 0s 22ms/step\n",
      "1/1 [==============================] - 0s 19ms/step\n",
      "1/1 [==============================] - 0s 19ms/step\n",
      "1/1 [==============================] - 0s 19ms/step\n",
      "1/1 [==============================] - 0s 19ms/step\n",
      "1/1 [==============================] - 0s 19ms/step\n",
      "1/1 [==============================] - 0s 20ms/step\n",
      "1/1 [==============================] - 0s 20ms/step\n",
      "1/1 [==============================] - 0s 19ms/step\n",
      "1/1 [==============================] - 0s 25ms/step\n",
      "1/1 [==============================] - 0s 19ms/step\n",
      "1/1 [==============================] - 0s 19ms/step\n",
      "1/1 [==============================] - 0s 19ms/step\n",
      "1/1 [==============================] - 0s 19ms/step\n",
      "1/1 [==============================] - 0s 19ms/step\n",
      "1/1 [==============================] - 0s 20ms/step\n",
      "1/1 [==============================] - 0s 19ms/step\n",
      "1/1 [==============================] - 0s 23ms/step\n",
      "1/1 [==============================] - 0s 19ms/step\n",
      "1/1 [==============================] - 0s 19ms/step\n",
      "1/1 [==============================] - 0s 19ms/step\n",
      "1/1 [==============================] - 0s 19ms/step\n",
      "1/1 [==============================] - 0s 19ms/step\n",
      "1/1 [==============================] - 0s 19ms/step\n",
      "1/1 [==============================] - 0s 20ms/step\n",
      "1/1 [==============================] - 0s 21ms/step\n",
      "1/1 [==============================] - 0s 19ms/step\n",
      "1/1 [==============================] - 0s 19ms/step\n",
      "1/1 [==============================] - 0s 21ms/step\n",
      "1/1 [==============================] - 0s 19ms/step\n",
      "1/1 [==============================] - 0s 19ms/step\n",
      "1/1 [==============================] - 0s 19ms/step\n",
      "1/1 [==============================] - 0s 19ms/step\n",
      "1/1 [==============================] - 0s 19ms/step\n",
      "1/1 [==============================] - 0s 20ms/step\n",
      "1/1 [==============================] - 0s 20ms/step\n",
      "1/1 [==============================] - 0s 19ms/step\n",
      "1/1 [==============================] - 0s 19ms/step\n",
      "1/1 [==============================] - 0s 19ms/step\n",
      "1/1 [==============================] - 0s 20ms/step\n",
      "1/1 [==============================] - 0s 19ms/step\n",
      "1/1 [==============================] - 0s 18ms/step\n",
      "1/1 [==============================] - 0s 19ms/step\n",
      "1/1 [==============================] - 0s 20ms/step\n",
      "1/1 [==============================] - 0s 19ms/step\n",
      "1/1 [==============================] - 0s 18ms/step\n",
      "1/1 [==============================] - 0s 19ms/step\n",
      "1/1 [==============================] - 0s 19ms/step\n",
      "1/1 [==============================] - 0s 18ms/step\n",
      "1/1 [==============================] - 0s 19ms/step\n",
      "1/1 [==============================] - 0s 19ms/step\n",
      "1/1 [==============================] - 0s 20ms/step\n",
      "1/1 [==============================] - 0s 19ms/step\n",
      "1/1 [==============================] - 0s 19ms/step\n",
      "1/1 [==============================] - 0s 19ms/step\n",
      "1/1 [==============================] - 0s 19ms/step\n",
      "1/1 [==============================] - 0s 19ms/step\n",
      "1/1 [==============================] - 0s 19ms/step\n",
      "1/1 [==============================] - 0s 19ms/step\n",
      "1/1 [==============================] - 0s 19ms/step\n",
      "1/1 [==============================] - 0s 20ms/step\n",
      "1/1 [==============================] - 0s 19ms/step\n",
      "1/1 [==============================] - 0s 19ms/step\n",
      "1/1 [==============================] - 0s 19ms/step\n",
      "1/1 [==============================] - 0s 19ms/step\n",
      "1/1 [==============================] - 0s 19ms/step\n",
      "1/1 [==============================] - 0s 19ms/step\n",
      "1/1 [==============================] - 0s 19ms/step\n",
      "1/1 [==============================] - 0s 19ms/step\n",
      "1/1 [==============================] - 0s 20ms/step\n",
      "1/1 [==============================] - 0s 19ms/step\n",
      "1/1 [==============================] - 0s 19ms/step\n",
      "1/1 [==============================] - 0s 19ms/step\n"
     ]
    }
   ],
   "source": [
    "test_df = pd.read_csv(input_path+'/test.csv')\n",
    "model,_ = make_or_restore_model()\n",
    "submission_df = generate_submission(model)"
   ]
  },
  {
   "cell_type": "code",
   "execution_count": 20,
   "metadata": {},
   "outputs": [
    {
     "data": {
      "text/html": [
       "<div>\n",
       "<style scoped>\n",
       "    .dataframe tbody tr th:only-of-type {\n",
       "        vertical-align: middle;\n",
       "    }\n",
       "\n",
       "    .dataframe tbody tr th {\n",
       "        vertical-align: top;\n",
       "    }\n",
       "\n",
       "    .dataframe thead th {\n",
       "        text-align: right;\n",
       "    }\n",
       "</style>\n",
       "<table border=\"1\" class=\"dataframe\">\n",
       "  <thead>\n",
       "    <tr style=\"text-align: right;\">\n",
       "      <th></th>\n",
       "      <th>id</th>\n",
       "      <th>0</th>\n",
       "      <th>1</th>\n",
       "      <th>2</th>\n",
       "      <th>3</th>\n",
       "      <th>4</th>\n",
       "      <th>5</th>\n",
       "      <th>6</th>\n",
       "      <th>7</th>\n",
       "      <th>8</th>\n",
       "      <th>...</th>\n",
       "      <th>65526</th>\n",
       "      <th>65527</th>\n",
       "      <th>65528</th>\n",
       "      <th>65529</th>\n",
       "      <th>65530</th>\n",
       "      <th>65531</th>\n",
       "      <th>65532</th>\n",
       "      <th>65533</th>\n",
       "      <th>65534</th>\n",
       "      <th>65535</th>\n",
       "    </tr>\n",
       "  </thead>\n",
       "  <tbody>\n",
       "    <tr>\n",
       "      <th>0</th>\n",
       "      <td>-657116647631363807</td>\n",
       "      <td>0.931253</td>\n",
       "      <td>0.934954</td>\n",
       "      <td>-0.546241</td>\n",
       "      <td>-0.578827</td>\n",
       "      <td>0.934128</td>\n",
       "      <td>0.934216</td>\n",
       "      <td>-0.545867</td>\n",
       "      <td>-0.577166</td>\n",
       "      <td>0.939143</td>\n",
       "      <td>...</td>\n",
       "      <td>-0.606587</td>\n",
       "      <td>-0.602494</td>\n",
       "      <td>0.939119</td>\n",
       "      <td>0.912866</td>\n",
       "      <td>-0.606033</td>\n",
       "      <td>-0.599511</td>\n",
       "      <td>0.936636</td>\n",
       "      <td>0.914782</td>\n",
       "      <td>-0.604734</td>\n",
       "      <td>-0.596094</td>\n",
       "    </tr>\n",
       "    <tr>\n",
       "      <th>1</th>\n",
       "      <td>7483162365939134796</td>\n",
       "      <td>0.924374</td>\n",
       "      <td>0.732165</td>\n",
       "      <td>-0.589589</td>\n",
       "      <td>-0.589862</td>\n",
       "      <td>0.927692</td>\n",
       "      <td>0.740108</td>\n",
       "      <td>-0.586943</td>\n",
       "      <td>-0.590521</td>\n",
       "      <td>0.934352</td>\n",
       "      <td>...</td>\n",
       "      <td>-0.372494</td>\n",
       "      <td>-0.622175</td>\n",
       "      <td>1.015598</td>\n",
       "      <td>0.336542</td>\n",
       "      <td>-0.357368</td>\n",
       "      <td>-0.632375</td>\n",
       "      <td>1.014619</td>\n",
       "      <td>0.336841</td>\n",
       "      <td>-0.345766</td>\n",
       "      <td>-0.636418</td>\n",
       "    </tr>\n",
       "    <tr>\n",
       "      <th>2</th>\n",
       "      <td>-6212758420087317096</td>\n",
       "      <td>0.941423</td>\n",
       "      <td>0.670451</td>\n",
       "      <td>-0.588546</td>\n",
       "      <td>-0.580749</td>\n",
       "      <td>0.943631</td>\n",
       "      <td>0.669087</td>\n",
       "      <td>-0.587652</td>\n",
       "      <td>-0.579646</td>\n",
       "      <td>0.947785</td>\n",
       "      <td>...</td>\n",
       "      <td>-0.586753</td>\n",
       "      <td>-0.570684</td>\n",
       "      <td>0.947920</td>\n",
       "      <td>0.885158</td>\n",
       "      <td>-0.587261</td>\n",
       "      <td>-0.568914</td>\n",
       "      <td>0.944981</td>\n",
       "      <td>0.878091</td>\n",
       "      <td>-0.587121</td>\n",
       "      <td>-0.566702</td>\n",
       "    </tr>\n",
       "    <tr>\n",
       "      <th>3</th>\n",
       "      <td>-1825935182480952214</td>\n",
       "      <td>-0.821113</td>\n",
       "      <td>1.283190</td>\n",
       "      <td>-0.591930</td>\n",
       "      <td>-1.128531</td>\n",
       "      <td>-0.818982</td>\n",
       "      <td>1.253313</td>\n",
       "      <td>-0.584678</td>\n",
       "      <td>-1.113662</td>\n",
       "      <td>-0.817518</td>\n",
       "      <td>...</td>\n",
       "      <td>-0.838217</td>\n",
       "      <td>-1.254565</td>\n",
       "      <td>-0.966933</td>\n",
       "      <td>1.991360</td>\n",
       "      <td>-0.873553</td>\n",
       "      <td>-1.275455</td>\n",
       "      <td>-0.969254</td>\n",
       "      <td>1.991123</td>\n",
       "      <td>-0.897675</td>\n",
       "      <td>-1.285117</td>\n",
       "    </tr>\n",
       "    <tr>\n",
       "      <th>4</th>\n",
       "      <td>-1859240836295259171</td>\n",
       "      <td>2.443699</td>\n",
       "      <td>-0.512410</td>\n",
       "      <td>-0.561092</td>\n",
       "      <td>-0.585751</td>\n",
       "      <td>2.447462</td>\n",
       "      <td>-0.517567</td>\n",
       "      <td>-0.564850</td>\n",
       "      <td>-0.584214</td>\n",
       "      <td>2.455973</td>\n",
       "      <td>...</td>\n",
       "      <td>-0.343188</td>\n",
       "      <td>-0.731559</td>\n",
       "      <td>0.907441</td>\n",
       "      <td>-0.283833</td>\n",
       "      <td>-0.342905</td>\n",
       "      <td>-0.730808</td>\n",
       "      <td>0.892374</td>\n",
       "      <td>-0.280424</td>\n",
       "      <td>-0.344358</td>\n",
       "      <td>-0.729929</td>\n",
       "    </tr>\n",
       "  </tbody>\n",
       "</table>\n",
       "<p>5 rows × 65537 columns</p>\n",
       "</div>"
      ],
      "text/plain": [
       "                    id         0         1         2         3         4   \n",
       "0  -657116647631363807  0.931253  0.934954 -0.546241 -0.578827  0.934128  \\\n",
       "1  7483162365939134796  0.924374  0.732165 -0.589589 -0.589862  0.927692   \n",
       "2 -6212758420087317096  0.941423  0.670451 -0.588546 -0.580749  0.943631   \n",
       "3 -1825935182480952214 -0.821113  1.283190 -0.591930 -1.128531 -0.818982   \n",
       "4 -1859240836295259171  2.443699 -0.512410 -0.561092 -0.585751  2.447462   \n",
       "\n",
       "          5         6         7         8  ...     65526     65527     65528   \n",
       "0  0.934216 -0.545867 -0.577166  0.939143  ... -0.606587 -0.602494  0.939119  \\\n",
       "1  0.740108 -0.586943 -0.590521  0.934352  ... -0.372494 -0.622175  1.015598   \n",
       "2  0.669087 -0.587652 -0.579646  0.947785  ... -0.586753 -0.570684  0.947920   \n",
       "3  1.253313 -0.584678 -1.113662 -0.817518  ... -0.838217 -1.254565 -0.966933   \n",
       "4 -0.517567 -0.564850 -0.584214  2.455973  ... -0.343188 -0.731559  0.907441   \n",
       "\n",
       "      65529     65530     65531     65532     65533     65534     65535  \n",
       "0  0.912866 -0.606033 -0.599511  0.936636  0.914782 -0.604734 -0.596094  \n",
       "1  0.336542 -0.357368 -0.632375  1.014619  0.336841 -0.345766 -0.636418  \n",
       "2  0.885158 -0.587261 -0.568914  0.944981  0.878091 -0.587121 -0.566702  \n",
       "3  1.991360 -0.873553 -1.275455 -0.969254  1.991123 -0.897675 -1.285117  \n",
       "4 -0.283833 -0.342905 -0.730808  0.892374 -0.280424 -0.344358 -0.729929  \n",
       "\n",
       "[5 rows x 65537 columns]"
      ]
     },
     "execution_count": 20,
     "metadata": {},
     "output_type": "execute_result"
    }
   ],
   "source": [
    "submission_df.to_csv(output_path+'submission.csv',index=False)\n",
    "submission_df.head()"
   ]
  },
  {
   "cell_type": "code",
   "execution_count": null,
   "metadata": {},
   "outputs": [],
   "source": []
  },
  {
   "cell_type": "code",
   "execution_count": null,
   "metadata": {},
   "outputs": [],
   "source": []
  }
 ],
 "metadata": {
  "kernelspec": {
   "display_name": "varpinn-study",
   "language": "python",
   "name": "python3"
  },
  "language_info": {
   "codemirror_mode": {
    "name": "ipython",
    "version": 3
   },
   "file_extension": ".py",
   "mimetype": "text/x-python",
   "name": "python",
   "nbconvert_exporter": "python",
   "pygments_lexer": "ipython3",
   "version": "3.9.16"
  },
  "orig_nbformat": 4
 },
 "nbformat": 4,
 "nbformat_minor": 2
}
